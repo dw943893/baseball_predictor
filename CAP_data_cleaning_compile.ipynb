{
 "cells": [
  {
   "cell_type": "code",
   "execution_count": 4,
   "id": "1787064d-ea18-4289-887c-3f33a0c2b1d1",
   "metadata": {},
   "outputs": [],
   "source": [
    "import pandas as pd\n",
    "import numpy as np\n",
    "import os"
   ]
  },
  {
   "cell_type": "markdown",
   "id": "0cd4bf40-ae2c-4866-8d38-4c751e219a44",
   "metadata": {},
   "source": [
    "# Data cleaning the Game Log .txt files"
   ]
  },
  {
   "cell_type": "markdown",
   "id": "a19417ea-8d82-4272-8752-28fa8f8ff065",
   "metadata": {},
   "source": [
    "For this analysis and modeling, I obtained the game logs of every regular season baseball game between 1946 and 2021, courtesy of https://www.retrosheet.org/gamelogs/index.html. The information came in the form of .txt files without proper column names, so I took the following steps to read the .txt as csv's, rename the columns, save as separate csv's, and concatenate the csv's into one csv."
   ]
  },
  {
   "cell_type": "markdown",
   "id": "ad7af66e-adba-466c-98a3-0ff463ff34ab",
   "metadata": {},
   "source": [
    "To rename the columns I put the column names in a CSV, used list comprehension to put the names into a list, then renamed \n",
    "the columns with the names in the list. I used the following stackoverflow article to assist me in changing multiple\n",
    "column names:\n",
    "https://stackoverflow.com/questions/38101009/changing-multiple-column-names-but-not-all-of-them-pandas-python"
   ]
  },
  {
   "cell_type": "code",
   "execution_count": 6,
   "id": "c7d13179-0d42-4551-a260-b51b1d27adda",
   "metadata": {},
   "outputs": [],
   "source": [
    "# Reading in the column names\n",
    "retro_data_dict = pd.read_csv(\"../capstone/retrosheet_game_log_data_dict.csv\")"
   ]
  },
  {
   "cell_type": "code",
   "execution_count": 7,
   "id": "adf64873-1e4d-4daf-823f-f03748f46927",
   "metadata": {},
   "outputs": [],
   "source": [
    "# Using list comprehension to put the column names in a list\n",
    "data_dict_list = [x for x in retro_data_dict.loc[0:, \"Unnamed: 0\"]]"
   ]
  },
  {
   "cell_type": "code",
   "execution_count": 8,
   "id": "81c2d322-c6e6-450f-850d-62f7a9538407",
   "metadata": {},
   "outputs": [],
   "source": [
    "# Using a for loop to remove duplicate whitespaces in the strings and putting them back into a list\n",
    "# used the following stackoverflow post to assist me with this:\n",
    "# https://stackoverflow.com/questions/8270092/remove-all-whitespace-in-a-string\n",
    "\n",
    "data_dict_list_new = []\n",
    "for x in data_dict_list:\n",
    "    a = \" \".join(x.split())\n",
    "    data_dict_list_new.append(a)"
   ]
  },
  {
   "cell_type": "code",
   "execution_count": null,
   "id": "639d2f86-dde0-461c-b315-12c076b1fafa",
   "metadata": {},
   "outputs": [],
   "source": [
    "# I used the following article to rename multiple columns in a pandas dataframe using column names from the list created\n",
    "# above:\n",
    "# https://www.listendata.com/2020/09/How-to-rename-columns-in-Pandas.html\n",
    "\n",
    "game_logs.columns = data_dict_list_new"
   ]
  },
  {
   "cell_type": "markdown",
   "id": "27d5b4a9-4843-4c36-afa0-b959f9f3bf3c",
   "metadata": {},
   "source": [
    "Putting it all together, I put all of the above in a for loop below to read in all 77 .txt files, rename the columns, and save a separate csv's."
   ]
  },
  {
   "cell_type": "markdown",
   "id": "21a7eb5c-2947-48c2-9e40-1bfb6260e44d",
   "metadata": {},
   "source": [
    "Created a list named \"file\" containing the names of the .txt files. This list will be used in the for loop below."
   ]
  },
  {
   "cell_type": "code",
   "execution_count": 3,
   "id": "6b88f0d4-9bee-46f5-8d94-3ac4344eff1f",
   "metadata": {},
   "outputs": [],
   "source": [
    "file = os.listdir(\"../capstone/game_logs_1871_2021/\")"
   ]
  },
  {
   "cell_type": "markdown",
   "id": "5bfaeb53-861f-4c98-994f-c9b2a6db2ed5",
   "metadata": {},
   "source": [
    "I added the \"column renaming\" steps above to a for loop that reads each .txt as a csv, renames the columns, and saves the csv's as separate files."
   ]
  },
  {
   "cell_type": "code",
   "execution_count": 45,
   "id": "fcbbcf16-8e32-4374-baec-0c205648ad27",
   "metadata": {},
   "outputs": [],
   "source": [
    "count = 0\n",
    "\n",
    "\n",
    "for index, x in enumerate(file):\n",
    "    data_dict_list_new = []\n",
    "    if count < 77:\n",
    "        game_log = pd.read_csv(\"../game_logs_1871_2021/\" + file[count], encoding= 'unicode_escape')\n",
    "        \n",
    "        retro_data_dict = pd.read_csv(\"../retrosheet_game_log_data_dict.csv\")\n",
    "        \n",
    "        data_dict_list = [x for x in retro_data_dict.loc[0:, \"Unnamed: 0\"]]\n",
    "        \n",
    "        for x in data_dict_list:\n",
    "            a = \" \".join(x.split())\n",
    "            data_dict_list_new.append(a)\n",
    "        \n",
    "        game_log.columns = data_dict_list_new\n",
    "        \n",
    "        game_log.to_csv(\"../gl_csv/game_log\" + str(count) + \".csv\", index = False)\n",
    "        \n",
    "        count+=1\n",
    "    "
   ]
  },
  {
   "cell_type": "markdown",
   "id": "4c8b03e7-9e4f-49e5-9e74-9dfbf3cef424",
   "metadata": {},
   "source": [
    "Created a list named \"file2\" containing the names of the .csv files. This list will be used in the pd.concat below to concatenate all of the csv's into one csv file."
   ]
  },
  {
   "cell_type": "code",
   "execution_count": 54,
   "id": "355e010c-54b6-48cc-8aed-0996f8186cfa",
   "metadata": {},
   "outputs": [],
   "source": [
    "file2 = os.listdir(\"../gl_csv/\")"
   ]
  },
  {
   "cell_type": "code",
   "execution_count": 60,
   "id": "5b640289-db4e-42f5-9f92-84a6534d87c7",
   "metadata": {},
   "outputs": [],
   "source": [
    "# I used the following stackoverflow post to help with an error I was getting:\n",
    "# the error was \"UnicodeDecodeError: 'utf-8' codec can't decode byte 0x86 in position 23: invalid start byte\"\n",
    "#https://stackoverflow.com/questions/60602486/unicodedecodeerror-utf-8-cant-decode-byte\n",
    "\n",
    "game_logs = pd.concat([pd.read_csv(x, encoding = \"ISO-8859-1\") for x in file2], ignore_index=True)"
   ]
  },
  {
   "cell_type": "code",
   "execution_count": 63,
   "id": "994d9704-fac5-4915-ac21-4a2303c5b649",
   "metadata": {},
   "outputs": [
    {
     "data": {
      "text/html": [
       "<div>\n",
       "<style scoped>\n",
       "    .dataframe tbody tr th:only-of-type {\n",
       "        vertical-align: middle;\n",
       "    }\n",
       "\n",
       "    .dataframe tbody tr th {\n",
       "        vertical-align: top;\n",
       "    }\n",
       "\n",
       "    .dataframe thead th {\n",
       "        text-align: right;\n",
       "    }\n",
       "</style>\n",
       "<table border=\"1\" class=\"dataframe\">\n",
       "  <thead>\n",
       "    <tr style=\"text-align: right;\">\n",
       "      <th></th>\n",
       "      <th>1 Date</th>\n",
       "      <th>2 Number of game</th>\n",
       "      <th>3 Day of week</th>\n",
       "      <th>4 Visiting team</th>\n",
       "      <th>5 Visiting team league</th>\n",
       "      <th>6 Visiting team game number</th>\n",
       "      <th>7 Home team</th>\n",
       "      <th>8 Home league</th>\n",
       "      <th>9 Home team game number</th>\n",
       "      <th>10 Visiting team score</th>\n",
       "      <th>...</th>\n",
       "      <th>153 home player 21</th>\n",
       "      <th>154 home player 22</th>\n",
       "      <th>155 home player 23</th>\n",
       "      <th>156 home player 24</th>\n",
       "      <th>157 home player 25</th>\n",
       "      <th>158 home player 26</th>\n",
       "      <th>159 home player 27</th>\n",
       "      <th>160 Additional information</th>\n",
       "      <th>161 Acquisition information:</th>\n",
       "      <th>Unnamed: 0</th>\n",
       "    </tr>\n",
       "  </thead>\n",
       "  <tbody>\n",
       "    <tr>\n",
       "      <th>0</th>\n",
       "      <td>19520415.0</td>\n",
       "      <td>0.0</td>\n",
       "      <td>Tue</td>\n",
       "      <td>SLA</td>\n",
       "      <td>AL</td>\n",
       "      <td>1.0</td>\n",
       "      <td>DET</td>\n",
       "      <td>AL</td>\n",
       "      <td>1.0</td>\n",
       "      <td>3.0</td>\n",
       "      <td>...</td>\n",
       "      <td>2.0</td>\n",
       "      <td>pridj101</td>\n",
       "      <td>Jerry Priddy</td>\n",
       "      <td>4.0</td>\n",
       "      <td>troud101</td>\n",
       "      <td>Dizzy Trout</td>\n",
       "      <td>1.0</td>\n",
       "      <td>NaN</td>\n",
       "      <td>Y</td>\n",
       "      <td>NaN</td>\n",
       "    </tr>\n",
       "    <tr>\n",
       "      <th>1</th>\n",
       "      <td>19520415.0</td>\n",
       "      <td>0.0</td>\n",
       "      <td>Tue</td>\n",
       "      <td>BOS</td>\n",
       "      <td>AL</td>\n",
       "      <td>1.0</td>\n",
       "      <td>WS1</td>\n",
       "      <td>AL</td>\n",
       "      <td>1.0</td>\n",
       "      <td>3.0</td>\n",
       "      <td>...</td>\n",
       "      <td>2.0</td>\n",
       "      <td>uptot101</td>\n",
       "      <td>Tom Upton</td>\n",
       "      <td>6.0</td>\n",
       "      <td>portb102</td>\n",
       "      <td>Bob Porterfield</td>\n",
       "      <td>1.0</td>\n",
       "      <td>NaN</td>\n",
       "      <td>Y</td>\n",
       "      <td>NaN</td>\n",
       "    </tr>\n",
       "    <tr>\n",
       "      <th>2</th>\n",
       "      <td>19520415.0</td>\n",
       "      <td>0.0</td>\n",
       "      <td>Tue</td>\n",
       "      <td>BRO</td>\n",
       "      <td>NL</td>\n",
       "      <td>1.0</td>\n",
       "      <td>BSN</td>\n",
       "      <td>NL</td>\n",
       "      <td>1.0</td>\n",
       "      <td>3.0</td>\n",
       "      <td>...</td>\n",
       "      <td>5.0</td>\n",
       "      <td>cusij101</td>\n",
       "      <td>Jack Cusick</td>\n",
       "      <td>6.0</td>\n",
       "      <td>spahw101</td>\n",
       "      <td>Warren Spahn</td>\n",
       "      <td>1.0</td>\n",
       "      <td>NaN</td>\n",
       "      <td>Y</td>\n",
       "      <td>NaN</td>\n",
       "    </tr>\n",
       "    <tr>\n",
       "      <th>3</th>\n",
       "      <td>19520415.0</td>\n",
       "      <td>0.0</td>\n",
       "      <td>Tue</td>\n",
       "      <td>CHN</td>\n",
       "      <td>NL</td>\n",
       "      <td>1.0</td>\n",
       "      <td>CIN</td>\n",
       "      <td>NL</td>\n",
       "      <td>1.0</td>\n",
       "      <td>6.0</td>\n",
       "      <td>...</td>\n",
       "      <td>2.0</td>\n",
       "      <td>mcmir101</td>\n",
       "      <td>Roy McMillan</td>\n",
       "      <td>6.0</td>\n",
       "      <td>wehmh101</td>\n",
       "      <td>Herm Wehmeier</td>\n",
       "      <td>1.0</td>\n",
       "      <td>NaN</td>\n",
       "      <td>Y</td>\n",
       "      <td>NaN</td>\n",
       "    </tr>\n",
       "    <tr>\n",
       "      <th>4</th>\n",
       "      <td>19520415.0</td>\n",
       "      <td>0.0</td>\n",
       "      <td>Tue</td>\n",
       "      <td>PIT</td>\n",
       "      <td>NL</td>\n",
       "      <td>1.0</td>\n",
       "      <td>SLN</td>\n",
       "      <td>NL</td>\n",
       "      <td>1.0</td>\n",
       "      <td>2.0</td>\n",
       "      <td>...</td>\n",
       "      <td>5.0</td>\n",
       "      <td>riced101</td>\n",
       "      <td>Del Rice</td>\n",
       "      <td>2.0</td>\n",
       "      <td>stalg103</td>\n",
       "      <td>Gerry Staley</td>\n",
       "      <td>1.0</td>\n",
       "      <td>NaN</td>\n",
       "      <td>Y</td>\n",
       "      <td>NaN</td>\n",
       "    </tr>\n",
       "  </tbody>\n",
       "</table>\n",
       "<p>5 rows × 162 columns</p>\n",
       "</div>"
      ],
      "text/plain": [
       "       1 Date  2 Number of game 3 Day of week 4 Visiting team  \\\n",
       "0  19520415.0               0.0           Tue             SLA   \n",
       "1  19520415.0               0.0           Tue             BOS   \n",
       "2  19520415.0               0.0           Tue             BRO   \n",
       "3  19520415.0               0.0           Tue             CHN   \n",
       "4  19520415.0               0.0           Tue             PIT   \n",
       "\n",
       "  5 Visiting team league  6 Visiting team game number 7 Home team  \\\n",
       "0                     AL                          1.0         DET   \n",
       "1                     AL                          1.0         WS1   \n",
       "2                     NL                          1.0         BSN   \n",
       "3                     NL                          1.0         CIN   \n",
       "4                     NL                          1.0         SLN   \n",
       "\n",
       "  8 Home league  9 Home team game number  10 Visiting team score  ...  \\\n",
       "0            AL                      1.0                     3.0  ...   \n",
       "1            AL                      1.0                     3.0  ...   \n",
       "2            NL                      1.0                     3.0  ...   \n",
       "3            NL                      1.0                     6.0  ...   \n",
       "4            NL                      1.0                     2.0  ...   \n",
       "\n",
       "   153 home player 21  154 home player 22 155 home player 23  \\\n",
       "0                 2.0            pridj101       Jerry Priddy   \n",
       "1                 2.0            uptot101          Tom Upton   \n",
       "2                 5.0            cusij101        Jack Cusick   \n",
       "3                 2.0            mcmir101       Roy McMillan   \n",
       "4                 5.0            riced101           Del Rice   \n",
       "\n",
       "  156 home player 24 157 home player 25 158 home player 26 159 home player 27  \\\n",
       "0                4.0           troud101        Dizzy Trout                1.0   \n",
       "1                6.0           portb102    Bob Porterfield                1.0   \n",
       "2                6.0           spahw101       Warren Spahn                1.0   \n",
       "3                6.0           wehmh101      Herm Wehmeier                1.0   \n",
       "4                2.0           stalg103       Gerry Staley                1.0   \n",
       "\n",
       "   160 Additional information  161 Acquisition information: Unnamed: 0  \n",
       "0                         NaN                             Y        NaN  \n",
       "1                         NaN                             Y        NaN  \n",
       "2                         NaN                             Y        NaN  \n",
       "3                         NaN                             Y        NaN  \n",
       "4                         NaN                             Y        NaN  \n",
       "\n",
       "[5 rows x 162 columns]"
      ]
     },
     "execution_count": 63,
     "metadata": {},
     "output_type": "execute_result"
    }
   ],
   "source": [
    "game_logs.head()"
   ]
  },
  {
   "cell_type": "code",
   "execution_count": 71,
   "id": "e6d599aa-563a-4912-8bb3-3482075bcc8f",
   "metadata": {},
   "outputs": [],
   "source": [
    "# Dropping the \"Unnamed: 0\" column\n",
    "game_logs.drop(columns = \"Unnamed: 0\", inplace = True)"
   ]
  },
  {
   "cell_type": "code",
   "execution_count": 74,
   "id": "eac671fe-faf3-4984-8648-920db79ded6a",
   "metadata": {},
   "outputs": [],
   "source": [
    "# Saving the concatenated and column relabeled csv\n",
    "# game_logs.to_csv(\"../gl_csv/concat_game_logs.csv\", index = False)"
   ]
  }
 ],
 "metadata": {
  "kernelspec": {
   "display_name": "Python 3 (ipykernel)",
   "language": "python",
   "name": "python3"
  },
  "language_info": {
   "codemirror_mode": {
    "name": "ipython",
    "version": 3
   },
   "file_extension": ".py",
   "mimetype": "text/x-python",
   "name": "python",
   "nbconvert_exporter": "python",
   "pygments_lexer": "ipython3",
   "version": "3.9.12"
  }
 },
 "nbformat": 4,
 "nbformat_minor": 5
}
