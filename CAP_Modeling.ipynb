{
 "cells": [
  {
   "cell_type": "code",
   "execution_count": 210,
   "id": "0b070b5a-7f75-46cf-a5e9-476d9a790a10",
   "metadata": {},
   "outputs": [],
   "source": [
    "import pandas as pd\n",
    "import numpy as np\n",
    "import matplotlib.pyplot as plt\n",
    "import seaborn as sns\n",
    "\n",
    "from sklearn.model_selection import train_test_split, cross_val_score, GridSearchCV\n",
    "from sklearn.linear_model import LogisticRegression\n",
    "\n",
    "from sklearn import metrics\n",
    "\n",
    "from sklearn.ensemble import RandomForestClassifier, GradientBoostingClassifier, AdaBoostClassifier, StackingClassifier\n",
    "\n",
    "from sklearn.metrics import confusion_matrix, ConfusionMatrixDisplay, recall_score, f1_score, precision_score\n",
    "from sklearn.pipeline import Pipeline\n",
    "from statsmodels.stats.outliers_influence import variance_inflation_factor\n",
    "\n",
    "import pickle\n"
   ]
  },
  {
   "cell_type": "markdown",
   "id": "423858eb-22de-4639-b63c-8763ba634fc1",
   "metadata": {
    "jp-MarkdownHeadingCollapsed": true,
    "tags": []
   },
   "source": [
    "# Model 1 - Logistic Regression - Identifying Probability of Home Team Winning/Losing Based on Home and Visiting Team Offensive and Defensive Stats During a Game"
   ]
  },
  {
   "cell_type": "markdown",
   "id": "2777c31d-0f01-4e68-9398-4307328a701c",
   "metadata": {},
   "source": [
    "Since I am focused on model accuracy and finding the probability that the home team wins or loses based on team offensive and defensive stats, I am not concerned about the interpretation of the coefficients, and thus multicollinearity between the predictor variables is not an issue. \n",
    "\n",
    "But before I can run the model I need to prep the data by categorizing wins and losses by the home team, and use that as my target variable."
   ]
  },
  {
   "cell_type": "code",
   "execution_count": 3,
   "id": "31eb3288-335b-4b1f-8722-4e50603f9f23",
   "metadata": {},
   "outputs": [
    {
     "name": "stderr",
     "output_type": "stream",
     "text": [
      "/var/folders/0b/5brsgfcj1659x_1js0_30dgm0000gn/T/ipykernel_25505/708457900.py:1: DtypeWarning: Columns (13,14,15,85,87) have mixed types. Specify dtype option on import or set low_memory=False.\n",
      "  game_logs_home = pd.read_csv(\"../capstone/gl_csv/concat_game_logs.csv\")\n"
     ]
    }
   ],
   "source": [
    "game_logs_home = pd.read_csv(\"../capstone/gl_csv/concat_game_logs.csv\")"
   ]
  },
  {
   "cell_type": "markdown",
   "id": "83d5769e-15c6-44fa-a893-aa6b3661f1e6",
   "metadata": {},
   "source": [
    "\n"
   ]
  },
  {
   "cell_type": "code",
   "execution_count": 4,
   "id": "ef5f540a-176d-4867-8c45-548965d50941",
   "metadata": {},
   "outputs": [
    {
     "data": {
      "text/html": [
       "<div>\n",
       "<style scoped>\n",
       "    .dataframe tbody tr th:only-of-type {\n",
       "        vertical-align: middle;\n",
       "    }\n",
       "\n",
       "    .dataframe tbody tr th {\n",
       "        vertical-align: top;\n",
       "    }\n",
       "\n",
       "    .dataframe thead th {\n",
       "        text-align: right;\n",
       "    }\n",
       "</style>\n",
       "<table border=\"1\" class=\"dataframe\">\n",
       "  <thead>\n",
       "    <tr style=\"text-align: right;\">\n",
       "      <th></th>\n",
       "      <th>1 Date</th>\n",
       "      <th>2 Number of game</th>\n",
       "      <th>3 Day of week</th>\n",
       "      <th>4 Visiting team</th>\n",
       "      <th>5 Visiting team league</th>\n",
       "      <th>6 Visiting team game number</th>\n",
       "      <th>7 Home team</th>\n",
       "      <th>8 Home league</th>\n",
       "      <th>9 Home team game number</th>\n",
       "      <th>10 Visiting team score</th>\n",
       "      <th>...</th>\n",
       "      <th>152 home player 20</th>\n",
       "      <th>153 home player 21</th>\n",
       "      <th>154 home player 22</th>\n",
       "      <th>155 home player 23</th>\n",
       "      <th>156 home player 24</th>\n",
       "      <th>157 home player 25</th>\n",
       "      <th>158 home player 26</th>\n",
       "      <th>159 home player 27</th>\n",
       "      <th>160 Additional information</th>\n",
       "      <th>161 Acquisition information:</th>\n",
       "    </tr>\n",
       "  </thead>\n",
       "  <tbody>\n",
       "    <tr>\n",
       "      <th>0</th>\n",
       "      <td>19520415.0</td>\n",
       "      <td>0.0</td>\n",
       "      <td>Tue</td>\n",
       "      <td>SLA</td>\n",
       "      <td>AL</td>\n",
       "      <td>1.0</td>\n",
       "      <td>DET</td>\n",
       "      <td>AL</td>\n",
       "      <td>1.0</td>\n",
       "      <td>3.0</td>\n",
       "      <td>...</td>\n",
       "      <td>Matt Batts</td>\n",
       "      <td>2.0</td>\n",
       "      <td>pridj101</td>\n",
       "      <td>Jerry Priddy</td>\n",
       "      <td>4.0</td>\n",
       "      <td>troud101</td>\n",
       "      <td>Dizzy Trout</td>\n",
       "      <td>1.0</td>\n",
       "      <td>NaN</td>\n",
       "      <td>Y</td>\n",
       "    </tr>\n",
       "    <tr>\n",
       "      <th>1</th>\n",
       "      <td>19520415.0</td>\n",
       "      <td>0.0</td>\n",
       "      <td>Tue</td>\n",
       "      <td>BOS</td>\n",
       "      <td>AL</td>\n",
       "      <td>1.0</td>\n",
       "      <td>WS1</td>\n",
       "      <td>AL</td>\n",
       "      <td>1.0</td>\n",
       "      <td>3.0</td>\n",
       "      <td>...</td>\n",
       "      <td>Clyde Kluttz</td>\n",
       "      <td>2.0</td>\n",
       "      <td>uptot101</td>\n",
       "      <td>Tom Upton</td>\n",
       "      <td>6.0</td>\n",
       "      <td>portb102</td>\n",
       "      <td>Bob Porterfield</td>\n",
       "      <td>1.0</td>\n",
       "      <td>NaN</td>\n",
       "      <td>Y</td>\n",
       "    </tr>\n",
       "    <tr>\n",
       "      <th>2</th>\n",
       "      <td>19520415.0</td>\n",
       "      <td>0.0</td>\n",
       "      <td>Tue</td>\n",
       "      <td>BRO</td>\n",
       "      <td>NL</td>\n",
       "      <td>1.0</td>\n",
       "      <td>BSN</td>\n",
       "      <td>NL</td>\n",
       "      <td>1.0</td>\n",
       "      <td>3.0</td>\n",
       "      <td>...</td>\n",
       "      <td>Eddie Mathews</td>\n",
       "      <td>5.0</td>\n",
       "      <td>cusij101</td>\n",
       "      <td>Jack Cusick</td>\n",
       "      <td>6.0</td>\n",
       "      <td>spahw101</td>\n",
       "      <td>Warren Spahn</td>\n",
       "      <td>1.0</td>\n",
       "      <td>NaN</td>\n",
       "      <td>Y</td>\n",
       "    </tr>\n",
       "    <tr>\n",
       "      <th>3</th>\n",
       "      <td>19520415.0</td>\n",
       "      <td>0.0</td>\n",
       "      <td>Tue</td>\n",
       "      <td>CHN</td>\n",
       "      <td>NL</td>\n",
       "      <td>1.0</td>\n",
       "      <td>CIN</td>\n",
       "      <td>NL</td>\n",
       "      <td>1.0</td>\n",
       "      <td>6.0</td>\n",
       "      <td>...</td>\n",
       "      <td>Andy Seminick</td>\n",
       "      <td>2.0</td>\n",
       "      <td>mcmir101</td>\n",
       "      <td>Roy McMillan</td>\n",
       "      <td>6.0</td>\n",
       "      <td>wehmh101</td>\n",
       "      <td>Herm Wehmeier</td>\n",
       "      <td>1.0</td>\n",
       "      <td>NaN</td>\n",
       "      <td>Y</td>\n",
       "    </tr>\n",
       "    <tr>\n",
       "      <th>4</th>\n",
       "      <td>19520415.0</td>\n",
       "      <td>0.0</td>\n",
       "      <td>Tue</td>\n",
       "      <td>PIT</td>\n",
       "      <td>NL</td>\n",
       "      <td>1.0</td>\n",
       "      <td>SLN</td>\n",
       "      <td>NL</td>\n",
       "      <td>1.0</td>\n",
       "      <td>2.0</td>\n",
       "      <td>...</td>\n",
       "      <td>Billy Johnson</td>\n",
       "      <td>5.0</td>\n",
       "      <td>riced101</td>\n",
       "      <td>Del Rice</td>\n",
       "      <td>2.0</td>\n",
       "      <td>stalg103</td>\n",
       "      <td>Gerry Staley</td>\n",
       "      <td>1.0</td>\n",
       "      <td>NaN</td>\n",
       "      <td>Y</td>\n",
       "    </tr>\n",
       "    <tr>\n",
       "      <th>...</th>\n",
       "      <td>...</td>\n",
       "      <td>...</td>\n",
       "      <td>...</td>\n",
       "      <td>...</td>\n",
       "      <td>...</td>\n",
       "      <td>...</td>\n",
       "      <td>...</td>\n",
       "      <td>...</td>\n",
       "      <td>...</td>\n",
       "      <td>...</td>\n",
       "      <td>...</td>\n",
       "      <td>...</td>\n",
       "      <td>...</td>\n",
       "      <td>...</td>\n",
       "      <td>...</td>\n",
       "      <td>...</td>\n",
       "      <td>...</td>\n",
       "      <td>...</td>\n",
       "      <td>...</td>\n",
       "      <td>...</td>\n",
       "      <td>...</td>\n",
       "    </tr>\n",
       "    <tr>\n",
       "      <th>146868</th>\n",
       "      <td>19721004.0</td>\n",
       "      <td>0.0</td>\n",
       "      <td>Wed</td>\n",
       "      <td>PHI</td>\n",
       "      <td>NL</td>\n",
       "      <td>156.0</td>\n",
       "      <td>CHN</td>\n",
       "      <td>NL</td>\n",
       "      <td>156.0</td>\n",
       "      <td>2.0</td>\n",
       "      <td>...</td>\n",
       "      <td>Bill North</td>\n",
       "      <td>8.0</td>\n",
       "      <td>hundr101</td>\n",
       "      <td>Randy Hundley</td>\n",
       "      <td>2.0</td>\n",
       "      <td>bonhb101</td>\n",
       "      <td>Bill Bonham</td>\n",
       "      <td>1.0</td>\n",
       "      <td>NaN</td>\n",
       "      <td>Y</td>\n",
       "    </tr>\n",
       "    <tr>\n",
       "      <th>146869</th>\n",
       "      <td>19721004.0</td>\n",
       "      <td>0.0</td>\n",
       "      <td>Wed</td>\n",
       "      <td>HOU</td>\n",
       "      <td>NL</td>\n",
       "      <td>153.0</td>\n",
       "      <td>CIN</td>\n",
       "      <td>NL</td>\n",
       "      <td>154.0</td>\n",
       "      <td>2.0</td>\n",
       "      <td>...</td>\n",
       "      <td>Dave Concepcion</td>\n",
       "      <td>6.0</td>\n",
       "      <td>plumb101</td>\n",
       "      <td>Bill Plummer</td>\n",
       "      <td>2.0</td>\n",
       "      <td>borbp101</td>\n",
       "      <td>Pedro Borbon</td>\n",
       "      <td>1.0</td>\n",
       "      <td>NaN</td>\n",
       "      <td>Y</td>\n",
       "    </tr>\n",
       "    <tr>\n",
       "      <th>146870</th>\n",
       "      <td>19721004.0</td>\n",
       "      <td>0.0</td>\n",
       "      <td>Wed</td>\n",
       "      <td>NYN</td>\n",
       "      <td>NL</td>\n",
       "      <td>156.0</td>\n",
       "      <td>MON</td>\n",
       "      <td>NL</td>\n",
       "      <td>156.0</td>\n",
       "      <td>3.0</td>\n",
       "      <td>...</td>\n",
       "      <td>Pepe Mangual</td>\n",
       "      <td>9.0</td>\n",
       "      <td>boccj101</td>\n",
       "      <td>John Boccabella</td>\n",
       "      <td>2.0</td>\n",
       "      <td>moorb101</td>\n",
       "      <td>Balor Moore</td>\n",
       "      <td>1.0</td>\n",
       "      <td>NaN</td>\n",
       "      <td>Y</td>\n",
       "    </tr>\n",
       "    <tr>\n",
       "      <th>146871</th>\n",
       "      <td>19721004.0</td>\n",
       "      <td>0.0</td>\n",
       "      <td>Wed</td>\n",
       "      <td>SLN</td>\n",
       "      <td>NL</td>\n",
       "      <td>156.0</td>\n",
       "      <td>PIT</td>\n",
       "      <td>NL</td>\n",
       "      <td>155.0</td>\n",
       "      <td>4.0</td>\n",
       "      <td>...</td>\n",
       "      <td>Jose Pagan</td>\n",
       "      <td>5.0</td>\n",
       "      <td>alleg101</td>\n",
       "      <td>Gene Alley</td>\n",
       "      <td>6.0</td>\n",
       "      <td>briln101</td>\n",
       "      <td>Nelson Briles</td>\n",
       "      <td>1.0</td>\n",
       "      <td>NaN</td>\n",
       "      <td>Y</td>\n",
       "    </tr>\n",
       "    <tr>\n",
       "      <th>146872</th>\n",
       "      <td>19721004.0</td>\n",
       "      <td>0.0</td>\n",
       "      <td>Wed</td>\n",
       "      <td>SDN</td>\n",
       "      <td>NL</td>\n",
       "      <td>153.0</td>\n",
       "      <td>SFN</td>\n",
       "      <td>NL</td>\n",
       "      <td>155.0</td>\n",
       "      <td>4.0</td>\n",
       "      <td>...</td>\n",
       "      <td>Garry Maddox</td>\n",
       "      <td>8.0</td>\n",
       "      <td>thomg101</td>\n",
       "      <td>Gary Thomasson</td>\n",
       "      <td>3.0</td>\n",
       "      <td>bryar101</td>\n",
       "      <td>Ron Bryant</td>\n",
       "      <td>1.0</td>\n",
       "      <td>NaN</td>\n",
       "      <td>Y</td>\n",
       "    </tr>\n",
       "  </tbody>\n",
       "</table>\n",
       "<p>146873 rows × 161 columns</p>\n",
       "</div>"
      ],
      "text/plain": [
       "            1 Date  2 Number of game 3 Day of week 4 Visiting team  \\\n",
       "0       19520415.0               0.0           Tue             SLA   \n",
       "1       19520415.0               0.0           Tue             BOS   \n",
       "2       19520415.0               0.0           Tue             BRO   \n",
       "3       19520415.0               0.0           Tue             CHN   \n",
       "4       19520415.0               0.0           Tue             PIT   \n",
       "...            ...               ...           ...             ...   \n",
       "146868  19721004.0               0.0           Wed             PHI   \n",
       "146869  19721004.0               0.0           Wed             HOU   \n",
       "146870  19721004.0               0.0           Wed             NYN   \n",
       "146871  19721004.0               0.0           Wed             SLN   \n",
       "146872  19721004.0               0.0           Wed             SDN   \n",
       "\n",
       "       5 Visiting team league  6 Visiting team game number 7 Home team  \\\n",
       "0                          AL                          1.0         DET   \n",
       "1                          AL                          1.0         WS1   \n",
       "2                          NL                          1.0         BSN   \n",
       "3                          NL                          1.0         CIN   \n",
       "4                          NL                          1.0         SLN   \n",
       "...                       ...                          ...         ...   \n",
       "146868                     NL                        156.0         CHN   \n",
       "146869                     NL                        153.0         CIN   \n",
       "146870                     NL                        156.0         MON   \n",
       "146871                     NL                        156.0         PIT   \n",
       "146872                     NL                        153.0         SFN   \n",
       "\n",
       "       8 Home league  9 Home team game number  10 Visiting team score  ...  \\\n",
       "0                 AL                      1.0                     3.0  ...   \n",
       "1                 AL                      1.0                     3.0  ...   \n",
       "2                 NL                      1.0                     3.0  ...   \n",
       "3                 NL                      1.0                     6.0  ...   \n",
       "4                 NL                      1.0                     2.0  ...   \n",
       "...              ...                      ...                     ...  ...   \n",
       "146868            NL                    156.0                     2.0  ...   \n",
       "146869            NL                    154.0                     2.0  ...   \n",
       "146870            NL                    156.0                     3.0  ...   \n",
       "146871            NL                    155.0                     4.0  ...   \n",
       "146872            NL                    155.0                     4.0  ...   \n",
       "\n",
       "        152 home player 20  153 home player 21 154 home player 22  \\\n",
       "0               Matt Batts                 2.0           pridj101   \n",
       "1             Clyde Kluttz                 2.0           uptot101   \n",
       "2            Eddie Mathews                 5.0           cusij101   \n",
       "3            Andy Seminick                 2.0           mcmir101   \n",
       "4            Billy Johnson                 5.0           riced101   \n",
       "...                    ...                 ...                ...   \n",
       "146868          Bill North                 8.0           hundr101   \n",
       "146869     Dave Concepcion                 6.0           plumb101   \n",
       "146870        Pepe Mangual                 9.0           boccj101   \n",
       "146871          Jose Pagan                 5.0           alleg101   \n",
       "146872        Garry Maddox                 8.0           thomg101   \n",
       "\n",
       "       155 home player 23 156 home player 24 157 home player 25  \\\n",
       "0            Jerry Priddy                4.0           troud101   \n",
       "1               Tom Upton                6.0           portb102   \n",
       "2             Jack Cusick                6.0           spahw101   \n",
       "3            Roy McMillan                6.0           wehmh101   \n",
       "4                Del Rice                2.0           stalg103   \n",
       "...                   ...                ...                ...   \n",
       "146868      Randy Hundley                2.0           bonhb101   \n",
       "146869       Bill Plummer                2.0           borbp101   \n",
       "146870    John Boccabella                2.0           moorb101   \n",
       "146871         Gene Alley                6.0           briln101   \n",
       "146872     Gary Thomasson                3.0           bryar101   \n",
       "\n",
       "       158 home player 26  159 home player 27  160 Additional information  \\\n",
       "0             Dizzy Trout                 1.0                         NaN   \n",
       "1         Bob Porterfield                 1.0                         NaN   \n",
       "2            Warren Spahn                 1.0                         NaN   \n",
       "3           Herm Wehmeier                 1.0                         NaN   \n",
       "4            Gerry Staley                 1.0                         NaN   \n",
       "...                   ...                 ...                         ...   \n",
       "146868        Bill Bonham                 1.0                         NaN   \n",
       "146869       Pedro Borbon                 1.0                         NaN   \n",
       "146870        Balor Moore                 1.0                         NaN   \n",
       "146871      Nelson Briles                 1.0                         NaN   \n",
       "146872         Ron Bryant                 1.0                         NaN   \n",
       "\n",
       "       161 Acquisition information:  \n",
       "0                                 Y  \n",
       "1                                 Y  \n",
       "2                                 Y  \n",
       "3                                 Y  \n",
       "4                                 Y  \n",
       "...                             ...  \n",
       "146868                            Y  \n",
       "146869                            Y  \n",
       "146870                            Y  \n",
       "146871                            Y  \n",
       "146872                            Y  \n",
       "\n",
       "[146873 rows x 161 columns]"
      ]
     },
     "execution_count": 4,
     "metadata": {},
     "output_type": "execute_result"
    }
   ],
   "source": [
    "game_logs_home"
   ]
  },
  {
   "cell_type": "code",
   "execution_count": 5,
   "id": "8261f661-2a26-4e6a-a26b-329b73ae1bf7",
   "metadata": {},
   "outputs": [],
   "source": [
    "# for loop to create a list of \"W\" and \"L\"; \"W\" (win) if the home team scores more than the visiting team, \"L\" (loss) of the \n",
    "# home team scores less than the visiting team.\n",
    "\n",
    "results_list = []\n",
    "count = 0\n",
    "for x in game_logs_home[\"11 Home team score\"]:\n",
    "   \n",
    "    if count <= len(game_logs_home[\"10 Visiting team score\"]):\n",
    "        if x > game_logs_home[\"10 Visiting team score\"][count]:\n",
    "            a = \"W\"\n",
    "            results_list.append(a)\n",
    "            count += 1\n",
    "        elif x < game_logs_home[\"10 Visiting team score\"][count]:\n",
    "            b = \"L\"\n",
    "            results_list.append(b)\n",
    "            count += 1\n",
    "        else:\n",
    "            c = \"T\"\n",
    "            results_list.append(c)\n",
    "            count += 1"
   ]
  },
  {
   "cell_type": "code",
   "execution_count": 6,
   "id": "e2686499-6142-4c2f-b5ef-9403f2351c86",
   "metadata": {},
   "outputs": [],
   "source": [
    "# Filling a new column game_log_home[\"results\"] with values in results_list\n",
    "game_logs_home[\"results\"] = results_list"
   ]
  },
  {
   "cell_type": "markdown",
   "id": "0ac9b2bb-708a-4b1e-ab3e-94e63464cc89",
   "metadata": {},
   "source": [
    "Using the home team win-loss record as the null model, the baseline accuracy is 53.8%. I will ignore the tied games signified by \"T\", by only counting the entries with either a \"W\" or \"L\"."
   ]
  },
  {
   "cell_type": "code",
   "execution_count": 7,
   "id": "4d32453e-2e83-4a9e-ac28-6bbf773d1a9e",
   "metadata": {},
   "outputs": [],
   "source": [
    "game_logs_home = game_logs_home[game_logs_home[\"results\"] != \"T\"]"
   ]
  },
  {
   "cell_type": "code",
   "execution_count": 8,
   "id": "0649394e-5ce8-4781-aeaf-96869c6be0f6",
   "metadata": {},
   "outputs": [
    {
     "data": {
      "text/plain": [
       "W    0.53882\n",
       "L    0.46118\n",
       "Name: results, dtype: float64"
      ]
     },
     "execution_count": 8,
     "metadata": {},
     "output_type": "execute_result"
    }
   ],
   "source": [
    "game_logs_home[\"results\"].value_counts(normalize = True)"
   ]
  },
  {
   "cell_type": "markdown",
   "id": "e5a9318d-257f-4679-8b12-89b872af065e",
   "metadata": {},
   "source": [
    "Creating my X and y variables:"
   ]
  },
  {
   "cell_type": "code",
   "execution_count": 30,
   "id": "19d72757-27a1-4586-baef-800891a1cdd5",
   "metadata": {
    "scrolled": true,
    "tags": []
   },
   "outputs": [],
   "source": [
    "features = [          \n",
    " '23 visiting hits',\n",
    " '24 visiting doubles',\n",
    " '25 visiting triples',\n",
    "\n",
    " '30 visiting hit-by-pitch',\n",
    " '31 visiting walks',\n",
    " '32 visiting intentional walks',\n",
    " '33 visiting strikeouts',\n",
    " '34 visiting stolen bases',\n",
    " '35 visiting caught stealing',\n",
    " '36 visiting grounded into double plays',\n",
    " \"37 visiting awarded first on catcher's interference\",\n",
    " '38 visiting left on base',\n",
    " '39 visiting pitchers used',\n",
    "\n",
    " '42 visiting wild pitches',\n",
    " '43 visiting balks',\n",
    " \n",
    " '45 visiting assists',\n",
    " '46 visiting errors',\n",
    " '47 visiting passed balls',\n",
    " '48 visiting double plays',\n",
    " '49 visiting triple plays',\n",
    " '51 home hits',\n",
    " '52 home doubles',\n",
    " '53 home triples',\n",
    " \n",
    " '58 home hit-by-pitch',\n",
    " '59 home walks',\n",
    " '60 home intentional walks',\n",
    " '61 home strikeouts',\n",
    " '62 home stolen bases',\n",
    " '63 home caught stealing',\n",
    " '64 home grounded into double plays',\n",
    " \"65 home awarded first on catcher's interference\",\n",
    " '66 home left on base',\n",
    " '67 home pitchers used',\n",
    " \n",
    " '70 home wild pitches',\n",
    " '71 home balks',\n",
    " \n",
    " '73 home assists',\n",
    " '74 home errors',\n",
    " '75 home passed balls',\n",
    " '76 home double plays',\n",
    " '77 home triple plays', ]\n",
    "\n",
    "X = game_logs_home[features]\n",
    "\n",
    "\n",
    "y = game_logs_home[\"results\"]"
   ]
  },
  {
   "cell_type": "code",
   "execution_count": null,
   "id": "069d3323-7705-4a84-b8b1-0d740165a2df",
   "metadata": {},
   "outputs": [],
   "source": []
  },
  {
   "cell_type": "markdown",
   "id": "daa9ecc6-1b75-4e2f-854b-8c60b54ca539",
   "metadata": {},
   "source": [
    "Train test split:"
   ]
  },
  {
   "cell_type": "code",
   "execution_count": 31,
   "id": "9a590523-b362-4fb4-bb04-9e176292fc23",
   "metadata": {},
   "outputs": [],
   "source": [
    "X_train, X_test, y_train, y_test = train_test_split(X, y, stratify = y, random_state=42)"
   ]
  },
  {
   "cell_type": "code",
   "execution_count": 32,
   "id": "823aa4d2-2d6a-4857-81b6-d43cfefb2b12",
   "metadata": {},
   "outputs": [
    {
     "data": {
      "text/plain": [
       "((110018, 40), (36673, 40), (110018,), (36673,))"
      ]
     },
     "execution_count": 32,
     "metadata": {},
     "output_type": "execute_result"
    }
   ],
   "source": [
    "X_train.shape, X_test.shape, y_train.shape, y_test.shape"
   ]
  },
  {
   "cell_type": "markdown",
   "id": "5378d3b6-c06d-4323-afb7-fe418b6c4470",
   "metadata": {},
   "source": [
    "Instantiating model"
   ]
  },
  {
   "cell_type": "code",
   "execution_count": 33,
   "id": "d4823a03-bbe7-47c4-8b7b-478022ce587d",
   "metadata": {},
   "outputs": [],
   "source": [
    "logreg_home = LogisticRegression(penalty = \"none\")"
   ]
  },
  {
   "cell_type": "markdown",
   "id": "fbbb63ce-1dc7-40ca-9ea1-55f12f5fae4f",
   "metadata": {},
   "source": [
    "Fitting:"
   ]
  },
  {
   "cell_type": "code",
   "execution_count": 34,
   "id": "a593404b-de86-4a8e-84dd-6db59cbbd0df",
   "metadata": {},
   "outputs": [
    {
     "name": "stderr",
     "output_type": "stream",
     "text": [
      "/Users/danielwong/opt/anaconda3/lib/python3.9/site-packages/sklearn/linear_model/_logistic.py:444: ConvergenceWarning: lbfgs failed to converge (status=1):\n",
      "STOP: TOTAL NO. of ITERATIONS REACHED LIMIT.\n",
      "\n",
      "Increase the number of iterations (max_iter) or scale the data as shown in:\n",
      "    https://scikit-learn.org/stable/modules/preprocessing.html\n",
      "Please also refer to the documentation for alternative solver options:\n",
      "    https://scikit-learn.org/stable/modules/linear_model.html#logistic-regression\n",
      "  n_iter_i = _check_optimize_result(\n"
     ]
    },
    {
     "data": {
      "text/html": [
       "<style>#sk-container-id-3 {color: black;background-color: white;}#sk-container-id-3 pre{padding: 0;}#sk-container-id-3 div.sk-toggleable {background-color: white;}#sk-container-id-3 label.sk-toggleable__label {cursor: pointer;display: block;width: 100%;margin-bottom: 0;padding: 0.3em;box-sizing: border-box;text-align: center;}#sk-container-id-3 label.sk-toggleable__label-arrow:before {content: \"▸\";float: left;margin-right: 0.25em;color: #696969;}#sk-container-id-3 label.sk-toggleable__label-arrow:hover:before {color: black;}#sk-container-id-3 div.sk-estimator:hover label.sk-toggleable__label-arrow:before {color: black;}#sk-container-id-3 div.sk-toggleable__content {max-height: 0;max-width: 0;overflow: hidden;text-align: left;background-color: #f0f8ff;}#sk-container-id-3 div.sk-toggleable__content pre {margin: 0.2em;color: black;border-radius: 0.25em;background-color: #f0f8ff;}#sk-container-id-3 input.sk-toggleable__control:checked~div.sk-toggleable__content {max-height: 200px;max-width: 100%;overflow: auto;}#sk-container-id-3 input.sk-toggleable__control:checked~label.sk-toggleable__label-arrow:before {content: \"▾\";}#sk-container-id-3 div.sk-estimator input.sk-toggleable__control:checked~label.sk-toggleable__label {background-color: #d4ebff;}#sk-container-id-3 div.sk-label input.sk-toggleable__control:checked~label.sk-toggleable__label {background-color: #d4ebff;}#sk-container-id-3 input.sk-hidden--visually {border: 0;clip: rect(1px 1px 1px 1px);clip: rect(1px, 1px, 1px, 1px);height: 1px;margin: -1px;overflow: hidden;padding: 0;position: absolute;width: 1px;}#sk-container-id-3 div.sk-estimator {font-family: monospace;background-color: #f0f8ff;border: 1px dotted black;border-radius: 0.25em;box-sizing: border-box;margin-bottom: 0.5em;}#sk-container-id-3 div.sk-estimator:hover {background-color: #d4ebff;}#sk-container-id-3 div.sk-parallel-item::after {content: \"\";width: 100%;border-bottom: 1px solid gray;flex-grow: 1;}#sk-container-id-3 div.sk-label:hover label.sk-toggleable__label {background-color: #d4ebff;}#sk-container-id-3 div.sk-serial::before {content: \"\";position: absolute;border-left: 1px solid gray;box-sizing: border-box;top: 0;bottom: 0;left: 50%;z-index: 0;}#sk-container-id-3 div.sk-serial {display: flex;flex-direction: column;align-items: center;background-color: white;padding-right: 0.2em;padding-left: 0.2em;position: relative;}#sk-container-id-3 div.sk-item {position: relative;z-index: 1;}#sk-container-id-3 div.sk-parallel {display: flex;align-items: stretch;justify-content: center;background-color: white;position: relative;}#sk-container-id-3 div.sk-item::before, #sk-container-id-3 div.sk-parallel-item::before {content: \"\";position: absolute;border-left: 1px solid gray;box-sizing: border-box;top: 0;bottom: 0;left: 50%;z-index: -1;}#sk-container-id-3 div.sk-parallel-item {display: flex;flex-direction: column;z-index: 1;position: relative;background-color: white;}#sk-container-id-3 div.sk-parallel-item:first-child::after {align-self: flex-end;width: 50%;}#sk-container-id-3 div.sk-parallel-item:last-child::after {align-self: flex-start;width: 50%;}#sk-container-id-3 div.sk-parallel-item:only-child::after {width: 0;}#sk-container-id-3 div.sk-dashed-wrapped {border: 1px dashed gray;margin: 0 0.4em 0.5em 0.4em;box-sizing: border-box;padding-bottom: 0.4em;background-color: white;}#sk-container-id-3 div.sk-label label {font-family: monospace;font-weight: bold;display: inline-block;line-height: 1.2em;}#sk-container-id-3 div.sk-label-container {text-align: center;}#sk-container-id-3 div.sk-container {/* jupyter's `normalize.less` sets `[hidden] { display: none; }` but bootstrap.min.css set `[hidden] { display: none !important; }` so we also need the `!important` here to be able to override the default hidden behavior on the sphinx rendered scikit-learn.org. See: https://github.com/scikit-learn/scikit-learn/issues/21755 */display: inline-block !important;position: relative;}#sk-container-id-3 div.sk-text-repr-fallback {display: none;}</style><div id=\"sk-container-id-3\" class=\"sk-top-container\"><div class=\"sk-text-repr-fallback\"><pre>LogisticRegression(penalty=&#x27;none&#x27;)</pre><b>In a Jupyter environment, please rerun this cell to show the HTML representation or trust the notebook. <br />On GitHub, the HTML representation is unable to render, please try loading this page with nbviewer.org.</b></div><div class=\"sk-container\" hidden><div class=\"sk-item\"><div class=\"sk-estimator sk-toggleable\"><input class=\"sk-toggleable__control sk-hidden--visually\" id=\"sk-estimator-id-3\" type=\"checkbox\" checked><label for=\"sk-estimator-id-3\" class=\"sk-toggleable__label sk-toggleable__label-arrow\">LogisticRegression</label><div class=\"sk-toggleable__content\"><pre>LogisticRegression(penalty=&#x27;none&#x27;)</pre></div></div></div></div></div>"
      ],
      "text/plain": [
       "LogisticRegression(penalty='none')"
      ]
     },
     "execution_count": 34,
     "metadata": {},
     "output_type": "execute_result"
    }
   ],
   "source": [
    "logreg_home.fit(X_train, y_train)"
   ]
  },
  {
   "cell_type": "markdown",
   "id": "35d8b46e-ff9c-4eee-86fa-3db35a2b9ff2",
   "metadata": {},
   "source": [
    "Scoring: \n",
    "\n",
    "- The training and testing accuracy rate of this model is 96%, with negligible difference between the two scores. "
   ]
  },
  {
   "cell_type": "code",
   "execution_count": 35,
   "id": "47ba50c9-5d11-46a3-b869-05b2dabd9905",
   "metadata": {},
   "outputs": [
    {
     "data": {
      "text/plain": [
       "(0.9607427875438564, 0.9619065797725848)"
      ]
     },
     "execution_count": 35,
     "metadata": {},
     "output_type": "execute_result"
    }
   ],
   "source": [
    "logreg_home.score(X_train, y_train), logreg_home.score(X_test, y_test)"
   ]
  },
  {
   "cell_type": "markdown",
   "id": "2a1d7cc9-957b-4c04-b923-63f6276d7aff",
   "metadata": {
    "jp-MarkdownHeadingCollapsed": true,
    "tags": []
   },
   "source": [
    "# Model 2 - Logistic Regression -  What if I only used the following features in the model? How would this affect the model's accuracy?"
   ]
  },
  {
   "cell_type": "markdown",
   "id": "e1e20a1c-c735-4da2-a58b-8e9b41af269e",
   "metadata": {},
   "source": [
    "home hit-by-pitch                                   \n",
    "home hits                                           \n",
    "home walks                                          \n",
    "visiting left on base                               \n",
    "visiting caught stealing                            \n",
    "home double plays                                    \n",
    "visiting errors                                      \n",
    "                                                                    \n",
    "home errors                                          \n",
    "home caught stealing                                 \n",
    "visiting double plays                                \n",
    "visiting hit-by-pitch                                \n",
    "visiting walks                                      \n",
    "home left on base                                   \n",
    "visiting hits              \n",
    "\n",
    "\n",
    "In this model, the accuracy rate for both the training and test set was 95%, which is not a big difference from the first model, whose accuracy rate was 96%. Both models outperform the null model accuracy rate of 53.8%. I most likely will use Model 2 - logistic regression for the streamlit app because it has 14 predictor variables vs 40, and thus requires the user to input less information, while the accuracy rate only decreases by 1%, an acceptable tradeoff."
   ]
  },
  {
   "cell_type": "code",
   "execution_count": 36,
   "id": "b5cae6de-1265-42f6-b5b7-58dde0c67f4c",
   "metadata": {},
   "outputs": [],
   "source": [
    "features = [\"58 home hit-by-pitch\",\n",
    "\"51 home hits\",\n",
    "\"59 home walks\",\n",
    "\"38 visiting left on base\",\n",
    "\"35 visiting caught stealing\",\n",
    "\"76 home double plays\",\n",
    "\"46 visiting errors\",\n",
    "                         \n",
    "\"74 home errors\" ,                            \n",
    "\"63 home caught stealing\" ,                      \n",
    "\"48 visiting double plays\" ,                          \n",
    "\"30 visiting hit-by-pitch\" ,                          \n",
    "\"31 visiting walks\" ,                        \n",
    "\"66 home left on base\" ,                       \n",
    "\"23 visiting hits\" ]\n",
    "\n",
    "X = game_logs_home[features]\n",
    "\n",
    "y = game_logs_home[\"results\"]"
   ]
  },
  {
   "cell_type": "code",
   "execution_count": 37,
   "id": "48046293-356f-4de8-9b46-38e8d01c04bf",
   "metadata": {},
   "outputs": [],
   "source": [
    "X_train, X_test, y_train, y_test = train_test_split(X, y, stratify = y, random_state=42)"
   ]
  },
  {
   "cell_type": "code",
   "execution_count": 38,
   "id": "b96311f5-a197-4daa-9806-50c0d5c9b8db",
   "metadata": {},
   "outputs": [
    {
     "data": {
      "text/plain": [
       "((110018, 14), (36673, 14), (110018,), (36673,))"
      ]
     },
     "execution_count": 38,
     "metadata": {},
     "output_type": "execute_result"
    }
   ],
   "source": [
    "X_train.shape, X_test.shape, y_train.shape, y_test.shape"
   ]
  },
  {
   "cell_type": "code",
   "execution_count": 39,
   "id": "0421cf5b-ca3c-4ff3-a884-532432ada1d1",
   "metadata": {},
   "outputs": [],
   "source": [
    "logreg_home= LogisticRegression(penalty = \"none\")"
   ]
  },
  {
   "cell_type": "code",
   "execution_count": 40,
   "id": "1cce850f-b910-4fb1-a2d3-de84965ac05f",
   "metadata": {},
   "outputs": [
    {
     "data": {
      "text/html": [
       "<style>#sk-container-id-4 {color: black;background-color: white;}#sk-container-id-4 pre{padding: 0;}#sk-container-id-4 div.sk-toggleable {background-color: white;}#sk-container-id-4 label.sk-toggleable__label {cursor: pointer;display: block;width: 100%;margin-bottom: 0;padding: 0.3em;box-sizing: border-box;text-align: center;}#sk-container-id-4 label.sk-toggleable__label-arrow:before {content: \"▸\";float: left;margin-right: 0.25em;color: #696969;}#sk-container-id-4 label.sk-toggleable__label-arrow:hover:before {color: black;}#sk-container-id-4 div.sk-estimator:hover label.sk-toggleable__label-arrow:before {color: black;}#sk-container-id-4 div.sk-toggleable__content {max-height: 0;max-width: 0;overflow: hidden;text-align: left;background-color: #f0f8ff;}#sk-container-id-4 div.sk-toggleable__content pre {margin: 0.2em;color: black;border-radius: 0.25em;background-color: #f0f8ff;}#sk-container-id-4 input.sk-toggleable__control:checked~div.sk-toggleable__content {max-height: 200px;max-width: 100%;overflow: auto;}#sk-container-id-4 input.sk-toggleable__control:checked~label.sk-toggleable__label-arrow:before {content: \"▾\";}#sk-container-id-4 div.sk-estimator input.sk-toggleable__control:checked~label.sk-toggleable__label {background-color: #d4ebff;}#sk-container-id-4 div.sk-label input.sk-toggleable__control:checked~label.sk-toggleable__label {background-color: #d4ebff;}#sk-container-id-4 input.sk-hidden--visually {border: 0;clip: rect(1px 1px 1px 1px);clip: rect(1px, 1px, 1px, 1px);height: 1px;margin: -1px;overflow: hidden;padding: 0;position: absolute;width: 1px;}#sk-container-id-4 div.sk-estimator {font-family: monospace;background-color: #f0f8ff;border: 1px dotted black;border-radius: 0.25em;box-sizing: border-box;margin-bottom: 0.5em;}#sk-container-id-4 div.sk-estimator:hover {background-color: #d4ebff;}#sk-container-id-4 div.sk-parallel-item::after {content: \"\";width: 100%;border-bottom: 1px solid gray;flex-grow: 1;}#sk-container-id-4 div.sk-label:hover label.sk-toggleable__label {background-color: #d4ebff;}#sk-container-id-4 div.sk-serial::before {content: \"\";position: absolute;border-left: 1px solid gray;box-sizing: border-box;top: 0;bottom: 0;left: 50%;z-index: 0;}#sk-container-id-4 div.sk-serial {display: flex;flex-direction: column;align-items: center;background-color: white;padding-right: 0.2em;padding-left: 0.2em;position: relative;}#sk-container-id-4 div.sk-item {position: relative;z-index: 1;}#sk-container-id-4 div.sk-parallel {display: flex;align-items: stretch;justify-content: center;background-color: white;position: relative;}#sk-container-id-4 div.sk-item::before, #sk-container-id-4 div.sk-parallel-item::before {content: \"\";position: absolute;border-left: 1px solid gray;box-sizing: border-box;top: 0;bottom: 0;left: 50%;z-index: -1;}#sk-container-id-4 div.sk-parallel-item {display: flex;flex-direction: column;z-index: 1;position: relative;background-color: white;}#sk-container-id-4 div.sk-parallel-item:first-child::after {align-self: flex-end;width: 50%;}#sk-container-id-4 div.sk-parallel-item:last-child::after {align-self: flex-start;width: 50%;}#sk-container-id-4 div.sk-parallel-item:only-child::after {width: 0;}#sk-container-id-4 div.sk-dashed-wrapped {border: 1px dashed gray;margin: 0 0.4em 0.5em 0.4em;box-sizing: border-box;padding-bottom: 0.4em;background-color: white;}#sk-container-id-4 div.sk-label label {font-family: monospace;font-weight: bold;display: inline-block;line-height: 1.2em;}#sk-container-id-4 div.sk-label-container {text-align: center;}#sk-container-id-4 div.sk-container {/* jupyter's `normalize.less` sets `[hidden] { display: none; }` but bootstrap.min.css set `[hidden] { display: none !important; }` so we also need the `!important` here to be able to override the default hidden behavior on the sphinx rendered scikit-learn.org. See: https://github.com/scikit-learn/scikit-learn/issues/21755 */display: inline-block !important;position: relative;}#sk-container-id-4 div.sk-text-repr-fallback {display: none;}</style><div id=\"sk-container-id-4\" class=\"sk-top-container\"><div class=\"sk-text-repr-fallback\"><pre>LogisticRegression(penalty=&#x27;none&#x27;)</pre><b>In a Jupyter environment, please rerun this cell to show the HTML representation or trust the notebook. <br />On GitHub, the HTML representation is unable to render, please try loading this page with nbviewer.org.</b></div><div class=\"sk-container\" hidden><div class=\"sk-item\"><div class=\"sk-estimator sk-toggleable\"><input class=\"sk-toggleable__control sk-hidden--visually\" id=\"sk-estimator-id-4\" type=\"checkbox\" checked><label for=\"sk-estimator-id-4\" class=\"sk-toggleable__label sk-toggleable__label-arrow\">LogisticRegression</label><div class=\"sk-toggleable__content\"><pre>LogisticRegression(penalty=&#x27;none&#x27;)</pre></div></div></div></div></div>"
      ],
      "text/plain": [
       "LogisticRegression(penalty='none')"
      ]
     },
     "execution_count": 40,
     "metadata": {},
     "output_type": "execute_result"
    }
   ],
   "source": [
    "logreg_home.fit(X_train, y_train)"
   ]
  },
  {
   "cell_type": "code",
   "execution_count": 41,
   "id": "6b258fb3-ef85-408e-908d-37483c298581",
   "metadata": {},
   "outputs": [
    {
     "data": {
      "text/plain": [
       "(0.9569524986820338, 0.9574346249284215)"
      ]
     },
     "execution_count": 41,
     "metadata": {},
     "output_type": "execute_result"
    }
   ],
   "source": [
    "logreg_home.score(X_train, y_train), logreg_home.score(X_test, y_test)"
   ]
  },
  {
   "cell_type": "markdown",
   "id": "2e844afc-d470-4b10-9f7f-2f9399a11b7e",
   "metadata": {
    "jp-MarkdownHeadingCollapsed": true,
    "tags": []
   },
   "source": [
    "# Model 2 - Logistic Regression GridSearch Pipeline to see if I can improve the accuracy rate"
   ]
  },
  {
   "cell_type": "markdown",
   "id": "68b7c7ee-6e3c-437a-bdc7-effd36a722b0",
   "metadata": {},
   "source": [
    "The grid search pipeline using various logistic regression max_iter parameter values did not improve the accuracy rate, which remained at 95%."
   ]
  },
  {
   "cell_type": "code",
   "execution_count": 16,
   "id": "c9eec45a-8f2c-4dbb-8bd8-68ea4970a821",
   "metadata": {},
   "outputs": [],
   "source": [
    "logreg_params = {\n",
    "    'max_iter': [100, 200, 300],\n",
    "    'n_jobs': [-1]\n",
    "}\n",
    "\n",
    "logreg_gridsearch = GridSearchCV(LogisticRegression(), # What is the model we want to fit?\n",
    "                              logreg_params, # What is the dictionary of hyperparameters?\n",
    "                              cv = 5, # What number of folds in CV will we use?\n",
    "                              ) "
   ]
  },
  {
   "cell_type": "code",
   "execution_count": 17,
   "id": "a9d595e3-614c-4108-aed3-537637275d99",
   "metadata": {},
   "outputs": [
    {
     "data": {
      "text/html": [
       "<style>#sk-container-id-2 {color: black;background-color: white;}#sk-container-id-2 pre{padding: 0;}#sk-container-id-2 div.sk-toggleable {background-color: white;}#sk-container-id-2 label.sk-toggleable__label {cursor: pointer;display: block;width: 100%;margin-bottom: 0;padding: 0.3em;box-sizing: border-box;text-align: center;}#sk-container-id-2 label.sk-toggleable__label-arrow:before {content: \"▸\";float: left;margin-right: 0.25em;color: #696969;}#sk-container-id-2 label.sk-toggleable__label-arrow:hover:before {color: black;}#sk-container-id-2 div.sk-estimator:hover label.sk-toggleable__label-arrow:before {color: black;}#sk-container-id-2 div.sk-toggleable__content {max-height: 0;max-width: 0;overflow: hidden;text-align: left;background-color: #f0f8ff;}#sk-container-id-2 div.sk-toggleable__content pre {margin: 0.2em;color: black;border-radius: 0.25em;background-color: #f0f8ff;}#sk-container-id-2 input.sk-toggleable__control:checked~div.sk-toggleable__content {max-height: 200px;max-width: 100%;overflow: auto;}#sk-container-id-2 input.sk-toggleable__control:checked~label.sk-toggleable__label-arrow:before {content: \"▾\";}#sk-container-id-2 div.sk-estimator input.sk-toggleable__control:checked~label.sk-toggleable__label {background-color: #d4ebff;}#sk-container-id-2 div.sk-label input.sk-toggleable__control:checked~label.sk-toggleable__label {background-color: #d4ebff;}#sk-container-id-2 input.sk-hidden--visually {border: 0;clip: rect(1px 1px 1px 1px);clip: rect(1px, 1px, 1px, 1px);height: 1px;margin: -1px;overflow: hidden;padding: 0;position: absolute;width: 1px;}#sk-container-id-2 div.sk-estimator {font-family: monospace;background-color: #f0f8ff;border: 1px dotted black;border-radius: 0.25em;box-sizing: border-box;margin-bottom: 0.5em;}#sk-container-id-2 div.sk-estimator:hover {background-color: #d4ebff;}#sk-container-id-2 div.sk-parallel-item::after {content: \"\";width: 100%;border-bottom: 1px solid gray;flex-grow: 1;}#sk-container-id-2 div.sk-label:hover label.sk-toggleable__label {background-color: #d4ebff;}#sk-container-id-2 div.sk-serial::before {content: \"\";position: absolute;border-left: 1px solid gray;box-sizing: border-box;top: 0;bottom: 0;left: 50%;z-index: 0;}#sk-container-id-2 div.sk-serial {display: flex;flex-direction: column;align-items: center;background-color: white;padding-right: 0.2em;padding-left: 0.2em;position: relative;}#sk-container-id-2 div.sk-item {position: relative;z-index: 1;}#sk-container-id-2 div.sk-parallel {display: flex;align-items: stretch;justify-content: center;background-color: white;position: relative;}#sk-container-id-2 div.sk-item::before, #sk-container-id-2 div.sk-parallel-item::before {content: \"\";position: absolute;border-left: 1px solid gray;box-sizing: border-box;top: 0;bottom: 0;left: 50%;z-index: -1;}#sk-container-id-2 div.sk-parallel-item {display: flex;flex-direction: column;z-index: 1;position: relative;background-color: white;}#sk-container-id-2 div.sk-parallel-item:first-child::after {align-self: flex-end;width: 50%;}#sk-container-id-2 div.sk-parallel-item:last-child::after {align-self: flex-start;width: 50%;}#sk-container-id-2 div.sk-parallel-item:only-child::after {width: 0;}#sk-container-id-2 div.sk-dashed-wrapped {border: 1px dashed gray;margin: 0 0.4em 0.5em 0.4em;box-sizing: border-box;padding-bottom: 0.4em;background-color: white;}#sk-container-id-2 div.sk-label label {font-family: monospace;font-weight: bold;display: inline-block;line-height: 1.2em;}#sk-container-id-2 div.sk-label-container {text-align: center;}#sk-container-id-2 div.sk-container {/* jupyter's `normalize.less` sets `[hidden] { display: none; }` but bootstrap.min.css set `[hidden] { display: none !important; }` so we also need the `!important` here to be able to override the default hidden behavior on the sphinx rendered scikit-learn.org. See: https://github.com/scikit-learn/scikit-learn/issues/21755 */display: inline-block !important;position: relative;}#sk-container-id-2 div.sk-text-repr-fallback {display: none;}</style><div id=\"sk-container-id-2\" class=\"sk-top-container\"><div class=\"sk-text-repr-fallback\"><pre>GridSearchCV(cv=5, estimator=LogisticRegression(),\n",
       "             param_grid={&#x27;max_iter&#x27;: [100, 200, 300], &#x27;n_jobs&#x27;: [-1]})</pre><b>In a Jupyter environment, please rerun this cell to show the HTML representation or trust the notebook. <br />On GitHub, the HTML representation is unable to render, please try loading this page with nbviewer.org.</b></div><div class=\"sk-container\" hidden><div class=\"sk-item sk-dashed-wrapped\"><div class=\"sk-label-container\"><div class=\"sk-label sk-toggleable\"><input class=\"sk-toggleable__control sk-hidden--visually\" id=\"sk-estimator-id-2\" type=\"checkbox\" ><label for=\"sk-estimator-id-2\" class=\"sk-toggleable__label sk-toggleable__label-arrow\">GridSearchCV</label><div class=\"sk-toggleable__content\"><pre>GridSearchCV(cv=5, estimator=LogisticRegression(),\n",
       "             param_grid={&#x27;max_iter&#x27;: [100, 200, 300], &#x27;n_jobs&#x27;: [-1]})</pre></div></div></div><div class=\"sk-parallel\"><div class=\"sk-parallel-item\"><div class=\"sk-item\"><div class=\"sk-label-container\"><div class=\"sk-label sk-toggleable\"><input class=\"sk-toggleable__control sk-hidden--visually\" id=\"sk-estimator-id-3\" type=\"checkbox\" ><label for=\"sk-estimator-id-3\" class=\"sk-toggleable__label sk-toggleable__label-arrow\">estimator: LogisticRegression</label><div class=\"sk-toggleable__content\"><pre>LogisticRegression()</pre></div></div></div><div class=\"sk-serial\"><div class=\"sk-item\"><div class=\"sk-estimator sk-toggleable\"><input class=\"sk-toggleable__control sk-hidden--visually\" id=\"sk-estimator-id-4\" type=\"checkbox\" ><label for=\"sk-estimator-id-4\" class=\"sk-toggleable__label sk-toggleable__label-arrow\">LogisticRegression</label><div class=\"sk-toggleable__content\"><pre>LogisticRegression()</pre></div></div></div></div></div></div></div></div></div></div>"
      ],
      "text/plain": [
       "GridSearchCV(cv=5, estimator=LogisticRegression(),\n",
       "             param_grid={'max_iter': [100, 200, 300], 'n_jobs': [-1]})"
      ]
     },
     "execution_count": 17,
     "metadata": {},
     "output_type": "execute_result"
    }
   ],
   "source": [
    "logreg_gridsearch.fit(X_train, y_train)"
   ]
  },
  {
   "cell_type": "code",
   "execution_count": 18,
   "id": "a3f7cfa0-a341-48e0-a213-e651c9988560",
   "metadata": {},
   "outputs": [
    {
     "data": {
      "text/plain": [
       "0.9573800888937365"
      ]
     },
     "execution_count": 18,
     "metadata": {},
     "output_type": "execute_result"
    }
   ],
   "source": [
    "logreg_gridsearch.score(X_test, y_test)"
   ]
  },
  {
   "cell_type": "code",
   "execution_count": 20,
   "id": "bc9b20a3-0b54-4b88-8694-1d11b1ce78e5",
   "metadata": {},
   "outputs": [
    {
     "data": {
      "text/plain": [
       "0.9568343401438135"
      ]
     },
     "execution_count": 20,
     "metadata": {},
     "output_type": "execute_result"
    }
   ],
   "source": [
    "logreg_gridsearch.best_score_"
   ]
  },
  {
   "cell_type": "code",
   "execution_count": 19,
   "id": "49711435-6616-40c4-8dbf-c16d3e3baacc",
   "metadata": {},
   "outputs": [
    {
     "data": {
      "text/plain": [
       "{'max_iter': 100, 'n_jobs': -1}"
      ]
     },
     "execution_count": 19,
     "metadata": {},
     "output_type": "execute_result"
    }
   ],
   "source": [
    "logreg_gridsearch.best_params_"
   ]
  },
  {
   "cell_type": "markdown",
   "id": "328fbe53-0e8b-4fb3-86ed-c8f4251eecc8",
   "metadata": {
    "jp-MarkdownHeadingCollapsed": true,
    "tags": []
   },
   "source": [
    "# Model 3 - Stacked Model"
   ]
  },
  {
   "cell_type": "markdown",
   "id": "94bf42af-36d7-4c0d-88d7-e87340f97c1a",
   "metadata": {},
   "source": [
    "Using a stacked model with random forest, gradient boost, and ada boost as level 1 estimators, and a logistic regression as the final estimator gave me an accuracy score of 89% for the test set and 99% for the training set, indicating this is a model that suffers from overfitting, and is generally worse performing than the model-2 logistic regression model that I previously ran, which had an accuracy rate of 95% for both the testing and training set."
   ]
  },
  {
   "cell_type": "code",
   "execution_count": 21,
   "id": "9e06b6ba-eee1-4040-b349-d777e6e3f5df",
   "metadata": {},
   "outputs": [
    {
     "data": {
      "text/plain": [
       "0.8941728246939165"
      ]
     },
     "execution_count": 21,
     "metadata": {},
     "output_type": "execute_result"
    }
   ],
   "source": [
    "level1_estimators = [\n",
    "    ('random_forest', RandomForestClassifier()),\n",
    "    ('gboost', GradientBoostingClassifier()),\n",
    "    ('ada', AdaBoostClassifier())\n",
    "]\n",
    "\n",
    "stacked_model = StackingClassifier(estimators=level1_estimators,\n",
    "                                 final_estimator = LogisticRegression())\n",
    "\n",
    "stacked_model.fit(X_train, y_train)\n",
    "stacked_model.score(X_test, y_test)"
   ]
  },
  {
   "cell_type": "code",
   "execution_count": 22,
   "id": "538dce64-8199-4249-b3f0-e70bd727d654",
   "metadata": {},
   "outputs": [
    {
     "data": {
      "text/plain": [
       "0.9990001636095912"
      ]
     },
     "execution_count": 22,
     "metadata": {},
     "output_type": "execute_result"
    }
   ],
   "source": [
    "stacked_model.score(X_train,y_train)"
   ]
  },
  {
   "cell_type": "markdown",
   "id": "98f8ec43-d63e-4cdb-a94e-116d1265e545",
   "metadata": {
    "jp-MarkdownHeadingCollapsed": true,
    "tags": []
   },
   "source": [
    "# If I was to create a Logistic Regression model that minimized multicollinearity in the predictor variables, I'd probably use the model below. "
   ]
  },
  {
   "cell_type": "markdown",
   "id": "99c9433f-a34f-4a90-b729-fe9174a03c7d",
   "metadata": {},
   "source": [
    "Note this model, which left out the predictor variables \"home left on base\" and \"visitor left on base\", has a training and test set accuracy rate of 81%, lower than the previous models, but the Variance Inflation Factors scores for each predictor variable is much lower, which makes the the coefficients more interpretable.\n",
    "For example:\n",
    "\n",
    "- For every error by the visiting team, the home team is 1.4 times more likely to win.\n",
    "\n",
    "- For every double play by the home team, the home team in 1.4 times more likely to win.\n"
   ]
  },
  {
   "cell_type": "code",
   "execution_count": 94,
   "id": "267afad1-ca69-45c2-9790-122e4588b93b",
   "metadata": {},
   "outputs": [],
   "source": [
    "features = [\"58 home hit-by-pitch\",\n",
    "\"51 home hits\",\n",
    "\"59 home walks\",\n",
    "\"35 visiting caught stealing\",\n",
    "\"76 home double plays\",\n",
    "\"46 visiting errors\",\n",
    "                         \n",
    "\"74 home errors\" ,                            \n",
    "\"63 home caught stealing\" ,                      \n",
    "\"48 visiting double plays\" ,                          \n",
    "\"30 visiting hit-by-pitch\" ,                          \n",
    "\"31 visiting walks\" ,                        \n",
    "                       \n",
    "\"23 visiting hits\" ]\n",
    "\n",
    "X = game_logs_home[features]\n",
    "\n",
    "y = game_logs_home[\"results\"]"
   ]
  },
  {
   "cell_type": "code",
   "execution_count": 95,
   "id": "ac927eb4-62c4-4ad2-8de3-8343cd15f74a",
   "metadata": {},
   "outputs": [],
   "source": [
    "X_train, X_test, y_train, y_test = train_test_split(X, y, stratify = y, random_state=42)"
   ]
  },
  {
   "cell_type": "code",
   "execution_count": 96,
   "id": "a92cd616-c96b-48e0-9039-1a7d9c088733",
   "metadata": {},
   "outputs": [],
   "source": [
    "logreg_home= LogisticRegression(penalty = \"none\")"
   ]
  },
  {
   "cell_type": "code",
   "execution_count": 97,
   "id": "026e1c39-0f4d-4cc9-a76e-d9d2b14a804c",
   "metadata": {},
   "outputs": [
    {
     "data": {
      "text/html": [
       "<style>#sk-container-id-9 {color: black;background-color: white;}#sk-container-id-9 pre{padding: 0;}#sk-container-id-9 div.sk-toggleable {background-color: white;}#sk-container-id-9 label.sk-toggleable__label {cursor: pointer;display: block;width: 100%;margin-bottom: 0;padding: 0.3em;box-sizing: border-box;text-align: center;}#sk-container-id-9 label.sk-toggleable__label-arrow:before {content: \"▸\";float: left;margin-right: 0.25em;color: #696969;}#sk-container-id-9 label.sk-toggleable__label-arrow:hover:before {color: black;}#sk-container-id-9 div.sk-estimator:hover label.sk-toggleable__label-arrow:before {color: black;}#sk-container-id-9 div.sk-toggleable__content {max-height: 0;max-width: 0;overflow: hidden;text-align: left;background-color: #f0f8ff;}#sk-container-id-9 div.sk-toggleable__content pre {margin: 0.2em;color: black;border-radius: 0.25em;background-color: #f0f8ff;}#sk-container-id-9 input.sk-toggleable__control:checked~div.sk-toggleable__content {max-height: 200px;max-width: 100%;overflow: auto;}#sk-container-id-9 input.sk-toggleable__control:checked~label.sk-toggleable__label-arrow:before {content: \"▾\";}#sk-container-id-9 div.sk-estimator input.sk-toggleable__control:checked~label.sk-toggleable__label {background-color: #d4ebff;}#sk-container-id-9 div.sk-label input.sk-toggleable__control:checked~label.sk-toggleable__label {background-color: #d4ebff;}#sk-container-id-9 input.sk-hidden--visually {border: 0;clip: rect(1px 1px 1px 1px);clip: rect(1px, 1px, 1px, 1px);height: 1px;margin: -1px;overflow: hidden;padding: 0;position: absolute;width: 1px;}#sk-container-id-9 div.sk-estimator {font-family: monospace;background-color: #f0f8ff;border: 1px dotted black;border-radius: 0.25em;box-sizing: border-box;margin-bottom: 0.5em;}#sk-container-id-9 div.sk-estimator:hover {background-color: #d4ebff;}#sk-container-id-9 div.sk-parallel-item::after {content: \"\";width: 100%;border-bottom: 1px solid gray;flex-grow: 1;}#sk-container-id-9 div.sk-label:hover label.sk-toggleable__label {background-color: #d4ebff;}#sk-container-id-9 div.sk-serial::before {content: \"\";position: absolute;border-left: 1px solid gray;box-sizing: border-box;top: 0;bottom: 0;left: 50%;z-index: 0;}#sk-container-id-9 div.sk-serial {display: flex;flex-direction: column;align-items: center;background-color: white;padding-right: 0.2em;padding-left: 0.2em;position: relative;}#sk-container-id-9 div.sk-item {position: relative;z-index: 1;}#sk-container-id-9 div.sk-parallel {display: flex;align-items: stretch;justify-content: center;background-color: white;position: relative;}#sk-container-id-9 div.sk-item::before, #sk-container-id-9 div.sk-parallel-item::before {content: \"\";position: absolute;border-left: 1px solid gray;box-sizing: border-box;top: 0;bottom: 0;left: 50%;z-index: -1;}#sk-container-id-9 div.sk-parallel-item {display: flex;flex-direction: column;z-index: 1;position: relative;background-color: white;}#sk-container-id-9 div.sk-parallel-item:first-child::after {align-self: flex-end;width: 50%;}#sk-container-id-9 div.sk-parallel-item:last-child::after {align-self: flex-start;width: 50%;}#sk-container-id-9 div.sk-parallel-item:only-child::after {width: 0;}#sk-container-id-9 div.sk-dashed-wrapped {border: 1px dashed gray;margin: 0 0.4em 0.5em 0.4em;box-sizing: border-box;padding-bottom: 0.4em;background-color: white;}#sk-container-id-9 div.sk-label label {font-family: monospace;font-weight: bold;display: inline-block;line-height: 1.2em;}#sk-container-id-9 div.sk-label-container {text-align: center;}#sk-container-id-9 div.sk-container {/* jupyter's `normalize.less` sets `[hidden] { display: none; }` but bootstrap.min.css set `[hidden] { display: none !important; }` so we also need the `!important` here to be able to override the default hidden behavior on the sphinx rendered scikit-learn.org. See: https://github.com/scikit-learn/scikit-learn/issues/21755 */display: inline-block !important;position: relative;}#sk-container-id-9 div.sk-text-repr-fallback {display: none;}</style><div id=\"sk-container-id-9\" class=\"sk-top-container\"><div class=\"sk-text-repr-fallback\"><pre>LogisticRegression(penalty=&#x27;none&#x27;)</pre><b>In a Jupyter environment, please rerun this cell to show the HTML representation or trust the notebook. <br />On GitHub, the HTML representation is unable to render, please try loading this page with nbviewer.org.</b></div><div class=\"sk-container\" hidden><div class=\"sk-item\"><div class=\"sk-estimator sk-toggleable\"><input class=\"sk-toggleable__control sk-hidden--visually\" id=\"sk-estimator-id-9\" type=\"checkbox\" checked><label for=\"sk-estimator-id-9\" class=\"sk-toggleable__label sk-toggleable__label-arrow\">LogisticRegression</label><div class=\"sk-toggleable__content\"><pre>LogisticRegression(penalty=&#x27;none&#x27;)</pre></div></div></div></div></div>"
      ],
      "text/plain": [
       "LogisticRegression(penalty='none')"
      ]
     },
     "execution_count": 97,
     "metadata": {},
     "output_type": "execute_result"
    }
   ],
   "source": [
    "logreg_home.fit(X_train, y_train)"
   ]
  },
  {
   "cell_type": "code",
   "execution_count": 98,
   "id": "d4d3a324-89e6-4efd-80e6-dd78bcf62354",
   "metadata": {},
   "outputs": [
    {
     "data": {
      "text/plain": [
       "(0.8126579287025759, 0.8172497477708396)"
      ]
     },
     "execution_count": 98,
     "metadata": {},
     "output_type": "execute_result"
    }
   ],
   "source": [
    "logreg_home.score(X_train, y_train), logreg_home.score(X_test, y_test)"
   ]
  },
  {
   "cell_type": "code",
   "execution_count": 111,
   "id": "ffcd714c-06d4-4159-8462-2dacf1589d43",
   "metadata": {},
   "outputs": [],
   "source": [
    "# function from DSI instructor Devin Fay's linear regression lesson\n",
    "\n",
    "def calc_vif(data):\n",
    "    v_df = pd.DataFrame(columns = ['vif'],\n",
    "                       index = data.columns)\n",
    "    \n",
    "    v_df['vif'] = [variance_inflation_factor(data.values, i) for i in range(len(data.columns))]\n",
    "    \n",
    "    return v_df.sort_values(by = 'vif', ascending = False)"
   ]
  },
  {
   "cell_type": "markdown",
   "id": "c16788e9-e0f8-4249-a979-6abfc8349483",
   "metadata": {},
   "source": [
    "Variance Inflation Scores. Note they are still a bit high but much lower than previous iterations with other predictor variable combinations."
   ]
  },
  {
   "cell_type": "code",
   "execution_count": 77,
   "id": "49ce0803-5160-4c1b-937f-029ff0ddd707",
   "metadata": {},
   "outputs": [
    {
     "data": {
      "text/html": [
       "<div>\n",
       "<style scoped>\n",
       "    .dataframe tbody tr th:only-of-type {\n",
       "        vertical-align: middle;\n",
       "    }\n",
       "\n",
       "    .dataframe tbody tr th {\n",
       "        vertical-align: top;\n",
       "    }\n",
       "\n",
       "    .dataframe thead th {\n",
       "        text-align: right;\n",
       "    }\n",
       "</style>\n",
       "<table border=\"1\" class=\"dataframe\">\n",
       "  <thead>\n",
       "    <tr style=\"text-align: right;\">\n",
       "      <th></th>\n",
       "      <th>vif</th>\n",
       "    </tr>\n",
       "  </thead>\n",
       "  <tbody>\n",
       "    <tr>\n",
       "      <th>23 visiting hits</th>\n",
       "      <td>6.466515</td>\n",
       "    </tr>\n",
       "    <tr>\n",
       "      <th>51 home hits</th>\n",
       "      <td>6.455305</td>\n",
       "    </tr>\n",
       "    <tr>\n",
       "      <th>59 home walks</th>\n",
       "      <td>3.421888</td>\n",
       "    </tr>\n",
       "    <tr>\n",
       "      <th>31 visiting walks</th>\n",
       "      <td>3.375998</td>\n",
       "    </tr>\n",
       "    <tr>\n",
       "      <th>76 home double plays</th>\n",
       "      <td>2.034977</td>\n",
       "    </tr>\n",
       "    <tr>\n",
       "      <th>48 visiting double plays</th>\n",
       "      <td>1.977248</td>\n",
       "    </tr>\n",
       "    <tr>\n",
       "      <th>74 home errors</th>\n",
       "      <td>1.725081</td>\n",
       "    </tr>\n",
       "    <tr>\n",
       "      <th>46 visiting errors</th>\n",
       "      <td>1.715042</td>\n",
       "    </tr>\n",
       "    <tr>\n",
       "      <th>35 visiting caught stealing</th>\n",
       "      <td>1.294459</td>\n",
       "    </tr>\n",
       "    <tr>\n",
       "      <th>63 home caught stealing</th>\n",
       "      <td>1.263404</td>\n",
       "    </tr>\n",
       "    <tr>\n",
       "      <th>30 visiting hit-by-pitch</th>\n",
       "      <td>1.252780</td>\n",
       "    </tr>\n",
       "    <tr>\n",
       "      <th>58 home hit-by-pitch</th>\n",
       "      <td>1.252172</td>\n",
       "    </tr>\n",
       "  </tbody>\n",
       "</table>\n",
       "</div>"
      ],
      "text/plain": [
       "                                  vif\n",
       "23 visiting hits             6.466515\n",
       "51 home hits                 6.455305\n",
       "59 home walks                3.421888\n",
       "31 visiting walks            3.375998\n",
       "76 home double plays         2.034977\n",
       "48 visiting double plays     1.977248\n",
       "74 home errors               1.725081\n",
       "46 visiting errors           1.715042\n",
       "35 visiting caught stealing  1.294459\n",
       "63 home caught stealing      1.263404\n",
       "30 visiting hit-by-pitch     1.252780\n",
       "58 home hit-by-pitch         1.252172"
      ]
     },
     "execution_count": 77,
     "metadata": {},
     "output_type": "execute_result"
    }
   ],
   "source": [
    "calc_vif(X_train)"
   ]
  },
  {
   "cell_type": "code",
   "execution_count": 78,
   "id": "c6186fe2-87c9-430d-824f-31e2566a0b6d",
   "metadata": {},
   "outputs": [
    {
     "data": {
      "text/plain": [
       "array([1.36664482, 1.56209439, 1.32774852, 0.95460558, 1.39764588,\n",
       "       1.41563887, 0.6734081 , 1.04830667, 0.66977203, 0.69700904,\n",
       "       0.73021219, 0.61872861])"
      ]
     },
     "execution_count": 78,
     "metadata": {},
     "output_type": "execute_result"
    }
   ],
   "source": [
    "np.exp(logreg_home.coef_)[0]"
   ]
  },
  {
   "cell_type": "code",
   "execution_count": 79,
   "id": "cbc78bd9-9b62-4a74-b82c-e802c34c0ce2",
   "metadata": {},
   "outputs": [],
   "source": [
    "logreg_home_coef_df = pd.DataFrame(np.exp(logreg_home.coef_)[0], index = X_test.columns, columns = ['Coefficient'])"
   ]
  },
  {
   "cell_type": "code",
   "execution_count": 80,
   "id": "aa1e67eb-0f06-4571-8b88-527ab74413fa",
   "metadata": {},
   "outputs": [
    {
     "data": {
      "text/plain": [
       "51 home hits                   1.562094\n",
       "46 visiting errors             1.415639\n",
       "76 home double plays           1.397646\n",
       "58 home hit-by-pitch           1.366645\n",
       "59 home walks                  1.327749\n",
       "63 home caught stealing        1.048307\n",
       "35 visiting caught stealing    0.954606\n",
       "31 visiting walks              0.730212\n",
       "30 visiting hit-by-pitch       0.697009\n",
       "74 home errors                 0.673408\n",
       "48 visiting double plays       0.669772\n",
       "23 visiting hits               0.618729\n",
       "Name: Coefficient, dtype: float64"
      ]
     },
     "execution_count": 80,
     "metadata": {},
     "output_type": "execute_result"
    }
   ],
   "source": [
    "logreg_home_coef_df[\"Coefficient\"].sort_values(ascending = False)"
   ]
  },
  {
   "cell_type": "markdown",
   "id": "fab793cd-df6a-4a4d-9a53-c6f510c506bd",
   "metadata": {
    "jp-MarkdownHeadingCollapsed": true,
    "tags": []
   },
   "source": [
    "# Model 2 Evaluation - Logistic Regression"
   ]
  },
  {
   "cell_type": "markdown",
   "id": "3b145d75-90a1-47e1-ad1b-de146feaf397",
   "metadata": {},
   "source": [
    "Based on the confusion matrix below, model 2, with an accuracy of 95% (for both the train and test sets), produced slightly more false positives (727) than false negatives (834), but not by much."
   ]
  },
  {
   "cell_type": "code",
   "execution_count": 55,
   "id": "08d3b1d0-dc00-4061-9be9-40d422b6fb3d",
   "metadata": {},
   "outputs": [],
   "source": [
    "preds = logreg_home.predict(X_test)"
   ]
  },
  {
   "cell_type": "code",
   "execution_count": 56,
   "id": "c0015fc9-bbd7-4675-b784-54ad86e1da99",
   "metadata": {},
   "outputs": [
    {
     "data": {
      "image/png": "[encoded data removed]",
      "text/plain": [
       "<Figure size 432x288 with 2 Axes>"
      ]
     },
     "metadata": {
      "needs_background": "light"
     },
     "output_type": "display_data"
    }
   ],
   "source": [
    "ConfusionMatrixDisplay.from_estimator(logreg_home, X_test, y_test);"
   ]
  },
  {
   "cell_type": "code",
   "execution_count": 57,
   "id": "111daedf-bd99-4dfa-ad60-51c9b0d69557",
   "metadata": {},
   "outputs": [
    {
     "data": {
      "text/plain": [
       "(16079, 834, 727, 19033)"
      ]
     },
     "execution_count": 57,
     "metadata": {},
     "output_type": "execute_result"
    }
   ],
   "source": [
    "tn, fp, fn, tp = confusion_matrix(y_test, preds).ravel()\n",
    "tn, fp, fn, tp"
   ]
  },
  {
   "cell_type": "code",
   "execution_count": 58,
   "id": "c8902eea-334a-4ff7-a76e-08c6d5167433",
   "metadata": {},
   "outputs": [
    {
     "name": "stdout",
     "output_type": "stream",
     "text": [
      "Recall is 0.9632085020242915\n",
      "Precision is 0.958020838576534\n",
      "F1 score is 0.9606076664900194\n",
      "Accuracy is 0.9574346249284215\n",
      "Misclassification rate is 0.04256537507157854\n"
     ]
    }
   ],
   "source": [
    "recall = tp/(tp+fn)\n",
    "\n",
    "precision = tp/(tp+fp)\n",
    "\n",
    "f1_test = 2 * (precision*recall) / (precision+recall)\n",
    "\n",
    "accuracy = (tp+tn) / (tp+tn+fp+fn)\n",
    "\n",
    "misclass = 1 - accuracy\n",
    "\n",
    "print(f\"Recall is {recall}\")\n",
    "\n",
    "print(f\"Precision is {precision}\")\n",
    "\n",
    "print(f\"F1 score is {f1_test}\")\n",
    "\n",
    "print(f\"Accuracy is {accuracy}\")\n",
    "\n",
    "print(f\"Misclassification rate is {misclass}\")\n"
   ]
  },
  {
   "cell_type": "markdown",
   "id": "0b26ace7-e6eb-4b41-b5c7-7f4dee0160c1",
   "metadata": {
    "tags": []
   },
   "source": [
    "# Examining the instances in which the Model 2 misclassified the data"
   ]
  },
  {
   "cell_type": "code",
   "execution_count": 42,
   "id": "6cc9a146-bd6d-41aa-b4a3-e6f55d75bee4",
   "metadata": {},
   "outputs": [
    {
     "name": "stderr",
     "output_type": "stream",
     "text": [
      "/var/folders/0b/5brsgfcj1659x_1js0_30dgm0000gn/T/ipykernel_25505/909321114.py:1: SettingWithCopyWarning: \n",
      "A value is trying to be set on a copy of a slice from a DataFrame.\n",
      "Try using .loc[row_indexer,col_indexer] = value instead\n",
      "\n",
      "See the caveats in the documentation: https://pandas.pydata.org/pandas-docs/stable/user_guide/indexing.html#returning-a-view-versus-a-copy\n",
      "  game_logs_home[\"preds\"] = logreg_home.predict(X)\n"
     ]
    }
   ],
   "source": [
    "game_logs_home[\"preds\"] = logreg_home.predict(X)\n",
    "logreg_model2_incorrect = game_logs_home[game_logs_home[\"preds\"] != game_logs_home[\"results\"]]"
   ]
  },
  {
   "cell_type": "markdown",
   "id": "8d31d8dc-8b95-4ccf-a0f8-46a8d3ea4d1a",
   "metadata": {},
   "source": [
    "There were 6297 games in which the model misclassified the results. Since the model examined 146,691 total games, this comes out to a 4.3% misclassification rate."
   ]
  },
  {
   "cell_type": "code",
   "execution_count": 54,
   "id": "10c7ab99-aaf0-41a2-b1ce-9322199c21fa",
   "metadata": {},
   "outputs": [
    {
     "data": {
      "text/plain": [
       "6297"
      ]
     },
     "execution_count": 54,
     "metadata": {},
     "output_type": "execute_result"
    }
   ],
   "source": [
    "len(logreg_model2_incorrect)"
   ]
  },
  {
   "cell_type": "markdown",
   "id": "56693439-0a30-42a3-94fa-e47eb9e29390",
   "metadata": {},
   "source": [
    "Looking at the descriptive statistics of the games that the model misclassified, the average of value for each predictor variable associated with the home and visiting team were very close. For example:\n",
    "\n",
    "Model misclassified games in which the home and visiting team had the same or very similar values for the predictor variables."
   ]
  },
  {
   "cell_type": "code",
   "execution_count": 66,
   "id": "aea07f4a-3939-4a22-bb2a-922afc02ffe7",
   "metadata": {},
   "outputs": [
    {
     "data": {
      "text/html": [
       "<div>\n",
       "<style scoped>\n",
       "    .dataframe tbody tr th:only-of-type {\n",
       "        vertical-align: middle;\n",
       "    }\n",
       "\n",
       "    .dataframe tbody tr th {\n",
       "        vertical-align: top;\n",
       "    }\n",
       "\n",
       "    .dataframe thead th {\n",
       "        text-align: right;\n",
       "    }\n",
       "</style>\n",
       "<table border=\"1\" class=\"dataframe\">\n",
       "  <thead>\n",
       "    <tr style=\"text-align: right;\">\n",
       "      <th></th>\n",
       "      <th>58 home hit-by-pitch</th>\n",
       "      <th>30 visiting hit-by-pitch</th>\n",
       "      <th>51 home hits</th>\n",
       "      <th>23 visiting hits</th>\n",
       "      <th>59 home walks</th>\n",
       "      <th>31 visiting walks</th>\n",
       "      <th>66 home left on base</th>\n",
       "      <th>38 visiting left on base</th>\n",
       "      <th>76 home double plays</th>\n",
       "      <th>48 visiting double plays</th>\n",
       "      <th>74 home errors</th>\n",
       "      <th>46 visiting errors</th>\n",
       "      <th>63 home caught stealing</th>\n",
       "      <th>35 visiting caught stealing</th>\n",
       "      <th>11 Home team score</th>\n",
       "      <th>10 Visiting team score</th>\n",
       "      <th>results</th>\n",
       "      <th>preds</th>\n",
       "    </tr>\n",
       "  </thead>\n",
       "  <tbody>\n",
       "    <tr>\n",
       "      <th>142325</th>\n",
       "      <td>0.0</td>\n",
       "      <td>0.0</td>\n",
       "      <td>7.0</td>\n",
       "      <td>6.0</td>\n",
       "      <td>1.0</td>\n",
       "      <td>4.0</td>\n",
       "      <td>5.0</td>\n",
       "      <td>8.0</td>\n",
       "      <td>1.0</td>\n",
       "      <td>1.0</td>\n",
       "      <td>2.0</td>\n",
       "      <td>0.0</td>\n",
       "      <td>0.0</td>\n",
       "      <td>0.0</td>\n",
       "      <td>2.0</td>\n",
       "      <td>1.0</td>\n",
       "      <td>W</td>\n",
       "      <td>L</td>\n",
       "    </tr>\n",
       "    <tr>\n",
       "      <th>119256</th>\n",
       "      <td>1.0</td>\n",
       "      <td>0.0</td>\n",
       "      <td>7.0</td>\n",
       "      <td>7.0</td>\n",
       "      <td>2.0</td>\n",
       "      <td>3.0</td>\n",
       "      <td>4.0</td>\n",
       "      <td>4.0</td>\n",
       "      <td>2.0</td>\n",
       "      <td>2.0</td>\n",
       "      <td>1.0</td>\n",
       "      <td>1.0</td>\n",
       "      <td>0.0</td>\n",
       "      <td>0.0</td>\n",
       "      <td>4.0</td>\n",
       "      <td>5.0</td>\n",
       "      <td>L</td>\n",
       "      <td>W</td>\n",
       "    </tr>\n",
       "    <tr>\n",
       "      <th>110</th>\n",
       "      <td>0.0</td>\n",
       "      <td>0.0</td>\n",
       "      <td>7.0</td>\n",
       "      <td>6.0</td>\n",
       "      <td>3.0</td>\n",
       "      <td>2.0</td>\n",
       "      <td>8.0</td>\n",
       "      <td>6.0</td>\n",
       "      <td>0.0</td>\n",
       "      <td>0.0</td>\n",
       "      <td>0.0</td>\n",
       "      <td>1.0</td>\n",
       "      <td>0.0</td>\n",
       "      <td>0.0</td>\n",
       "      <td>1.0</td>\n",
       "      <td>2.0</td>\n",
       "      <td>L</td>\n",
       "      <td>W</td>\n",
       "    </tr>\n",
       "    <tr>\n",
       "      <th>121254</th>\n",
       "      <td>0.0</td>\n",
       "      <td>0.0</td>\n",
       "      <td>18.0</td>\n",
       "      <td>10.0</td>\n",
       "      <td>8.0</td>\n",
       "      <td>3.0</td>\n",
       "      <td>19.0</td>\n",
       "      <td>5.0</td>\n",
       "      <td>3.0</td>\n",
       "      <td>1.0</td>\n",
       "      <td>1.0</td>\n",
       "      <td>0.0</td>\n",
       "      <td>1.0</td>\n",
       "      <td>1.0</td>\n",
       "      <td>4.0</td>\n",
       "      <td>5.0</td>\n",
       "      <td>L</td>\n",
       "      <td>W</td>\n",
       "    </tr>\n",
       "    <tr>\n",
       "      <th>86289</th>\n",
       "      <td>0.0</td>\n",
       "      <td>0.0</td>\n",
       "      <td>9.0</td>\n",
       "      <td>7.0</td>\n",
       "      <td>1.0</td>\n",
       "      <td>7.0</td>\n",
       "      <td>7.0</td>\n",
       "      <td>10.0</td>\n",
       "      <td>1.0</td>\n",
       "      <td>1.0</td>\n",
       "      <td>1.0</td>\n",
       "      <td>4.0</td>\n",
       "      <td>1.0</td>\n",
       "      <td>0.0</td>\n",
       "      <td>3.0</td>\n",
       "      <td>4.0</td>\n",
       "      <td>L</td>\n",
       "      <td>W</td>\n",
       "    </tr>\n",
       "  </tbody>\n",
       "</table>\n",
       "</div>"
      ],
      "text/plain": [
       "        58 home hit-by-pitch  30 visiting hit-by-pitch  51 home hits  \\\n",
       "142325                   0.0                       0.0           7.0   \n",
       "119256                   1.0                       0.0           7.0   \n",
       "110                      0.0                       0.0           7.0   \n",
       "121254                   0.0                       0.0          18.0   \n",
       "86289                    0.0                       0.0           9.0   \n",
       "\n",
       "        23 visiting hits  59 home walks  31 visiting walks  \\\n",
       "142325               6.0            1.0                4.0   \n",
       "119256               7.0            2.0                3.0   \n",
       "110                  6.0            3.0                2.0   \n",
       "121254              10.0            8.0                3.0   \n",
       "86289                7.0            1.0                7.0   \n",
       "\n",
       "        66 home left on base  38 visiting left on base  76 home double plays  \\\n",
       "142325                   5.0                       8.0                   1.0   \n",
       "119256                   4.0                       4.0                   2.0   \n",
       "110                      8.0                       6.0                   0.0   \n",
       "121254                  19.0                       5.0                   3.0   \n",
       "86289                    7.0                      10.0                   1.0   \n",
       "\n",
       "        48 visiting double plays  74 home errors  46 visiting errors  \\\n",
       "142325                       1.0             2.0                 0.0   \n",
       "119256                       2.0             1.0                 1.0   \n",
       "110                          0.0             0.0                 1.0   \n",
       "121254                       1.0             1.0                 0.0   \n",
       "86289                        1.0             1.0                 4.0   \n",
       "\n",
       "        63 home caught stealing  35 visiting caught stealing  \\\n",
       "142325                      0.0                          0.0   \n",
       "119256                      0.0                          0.0   \n",
       "110                         0.0                          0.0   \n",
       "121254                      1.0                          1.0   \n",
       "86289                       1.0                          0.0   \n",
       "\n",
       "        11 Home team score  10 Visiting team score results preds  \n",
       "142325                 2.0                     1.0       W     L  \n",
       "119256                 4.0                     5.0       L     W  \n",
       "110                    1.0                     2.0       L     W  \n",
       "121254                 4.0                     5.0       L     W  \n",
       "86289                  3.0                     4.0       L     W  "
      ]
     },
     "execution_count": 66,
     "metadata": {},
     "output_type": "execute_result"
    }
   ],
   "source": [
    "logreg_model2_incorrect[[\n",
    " \n",
    "\"58 home hit-by-pitch\",\n",
    "\"30 visiting hit-by-pitch\" , \n",
    "    \n",
    "\"51 home hits\",\n",
    "\"23 visiting hits\",\n",
    "\n",
    "\"59 home walks\",\n",
    "\"31 visiting walks\" ,\n",
    "\n",
    "\"66 home left on base\" ,                       \n",
    "\"38 visiting left on base\",\n",
    "\n",
    "\"76 home double plays\",\n",
    "\"48 visiting double plays\" , \n",
    "\n",
    "\"74 home errors\" , \n",
    "\"46 visiting errors\",\n",
    "\n",
    "\"63 home caught stealing\" ,\n",
    "\"35 visiting caught stealing\",\n",
    "\n",
    "\"11 Home team score\",\n",
    "\"10 Visiting team score\",\n",
    "\n",
    "\"results\",\n",
    "\"preds\"]].sample(5)"
   ]
  },
  {
   "cell_type": "markdown",
   "id": "db642351-696f-46f2-80ab-27c3a6127d54",
   "metadata": {
    "tags": []
   },
   "source": [
    "# Of the games the model misclassified, what percentage of the games had a margin or victory of one run for either team?"
   ]
  },
  {
   "cell_type": "markdown",
   "id": "2bb48b65-28b3-40de-8198-471057fbd94f",
   "metadata": {},
   "source": [
    "90% of the games the model misclassified had a margin of victory of one run for either team. This suggests the model had a hard time accurately classifying whether the home team won or lose in close games."
   ]
  },
  {
   "cell_type": "markdown",
   "id": "3b20a872-d145-442d-8aab-daaa6794bbd3",
   "metadata": {},
   "source": [
    "Created a new column that contains the absolute value of the run differential between the home team score and the visiting team score to determine the margin of victory for each game."
   ]
  },
  {
   "cell_type": "code",
   "execution_count": 62,
   "id": "597c79b0-84d5-41fc-8e7d-5f54e6a5497e",
   "metadata": {},
   "outputs": [
    {
     "name": "stderr",
     "output_type": "stream",
     "text": [
      "/var/folders/0b/5brsgfcj1659x_1js0_30dgm0000gn/T/ipykernel_25505/2924366867.py:1: SettingWithCopyWarning: \n",
      "A value is trying to be set on a copy of a slice from a DataFrame.\n",
      "Try using .loc[row_indexer,col_indexer] = value instead\n",
      "\n",
      "See the caveats in the documentation: https://pandas.pydata.org/pandas-docs/stable/user_guide/indexing.html#returning-a-view-versus-a-copy\n",
      "  logreg_model2_incorrect[\"run_diff_bet_home_visiting\"] = abs(logreg_model2_incorrect[\"10 Visiting team score\"] - logreg_model2_incorrect[\"11 Home team score\"])\n"
     ]
    }
   ],
   "source": [
    "logreg_model2_incorrect[\"run_diff_bet_home_visiting\"] = abs(logreg_model2_incorrect[\"10 Visiting team score\"] - logreg_model2_incorrect[\"11 Home team score\"])"
   ]
  },
  {
   "cell_type": "code",
   "execution_count": 65,
   "id": "37acde0e-7cc1-4996-bcb5-cad0aaf09ab1",
   "metadata": {},
   "outputs": [
    {
     "data": {
      "text/plain": [
       "1.0    0.905669\n",
       "2.0    0.085120\n",
       "3.0    0.008417\n",
       "4.0    0.000794\n",
       "Name: run_diff_bet_home_visiting, dtype: float64"
      ]
     },
     "execution_count": 65,
     "metadata": {},
     "output_type": "execute_result"
    }
   ],
   "source": [
    "logreg_model2_incorrect[\"run_diff_bet_home_visiting\"].value_counts(normalize = True).sort_values(ascending = False)"
   ]
  },
  {
   "cell_type": "markdown",
   "id": "f4999cb9-4204-41d6-ade4-4bceed06868f",
   "metadata": {
    "tags": []
   },
   "source": [
    "# What was the most common margin of victory? What was the model's misclassfication rate for games with a margin of victory of one-run for either team?"
   ]
  },
  {
   "cell_type": "markdown",
   "id": "0bc50f98-04cc-49b8-9e27-603f2daf1ea1",
   "metadata": {},
   "source": [
    "The most common margin of victory was one-run, with 30% of the games fitting this criteria, followed by two-run margin of victory which made up 18% of games. The model's misclass rate for games with a margin of victory of one-run for either team is 13%"
   ]
  },
  {
   "cell_type": "code",
   "execution_count": 70,
   "id": "d19eed14-280f-41f7-89cb-fcbf4ba8db35",
   "metadata": {},
   "outputs": [
    {
     "name": "stderr",
     "output_type": "stream",
     "text": [
      "/var/folders/0b/5brsgfcj1659x_1js0_30dgm0000gn/T/ipykernel_25505/2974959519.py:1: SettingWithCopyWarning: \n",
      "A value is trying to be set on a copy of a slice from a DataFrame.\n",
      "Try using .loc[row_indexer,col_indexer] = value instead\n",
      "\n",
      "See the caveats in the documentation: https://pandas.pydata.org/pandas-docs/stable/user_guide/indexing.html#returning-a-view-versus-a-copy\n",
      "  game_logs_home[\"run_diff_bet_home_visiting\"] = abs(game_logs_home[\"10 Visiting team score\"] - game_logs_home[\"11 Home team score\"])\n"
     ]
    }
   ],
   "source": [
    "game_logs_home[\"run_diff_bet_home_visiting\"] = abs(game_logs_home[\"10 Visiting team score\"] - game_logs_home[\"11 Home team score\"])"
   ]
  },
  {
   "cell_type": "code",
   "execution_count": 102,
   "id": "19744ed5-0223-4f3a-af20-50dd006d5645",
   "metadata": {},
   "outputs": [
    {
     "data": {
      "text/plain": [
       "1.0    43872\n",
       "2.0    27111\n",
       "3.0    21402\n",
       "4.0    16466\n",
       "5.0    11928\n",
       "Name: run_diff_bet_home_visiting, dtype: int64"
      ]
     },
     "execution_count": 102,
     "metadata": {},
     "output_type": "execute_result"
    }
   ],
   "source": [
    "game_logs_home[\"run_diff_bet_home_visiting\"].value_counts().head()"
   ]
  },
  {
   "cell_type": "code",
   "execution_count": 93,
   "id": "104f12d1-1fda-4038-81af-001325831508",
   "metadata": {},
   "outputs": [],
   "source": [
    "one_run_marg_vict = game_logs_home[game_logs_home[\"run_diff_bet_home_visiting\"] == 1]"
   ]
  },
  {
   "cell_type": "code",
   "execution_count": 94,
   "id": "5ffeae7c-b3ff-4eaa-9e87-06a056cf300b",
   "metadata": {},
   "outputs": [],
   "source": [
    "one_run_marg_vict_misclass = one_run_marg_vict[one_run_marg_vict[\"preds\"] != one_run_marg_vict[\"results\"]]"
   ]
  },
  {
   "cell_type": "code",
   "execution_count": 162,
   "id": "21760f9f-fb00-47ab-9b63-45819f3dc911",
   "metadata": {},
   "outputs": [],
   "source": [
    "a = len(one_run_marg_vict_misclass) / len(one_run_marg_vict)"
   ]
  },
  {
   "cell_type": "code",
   "execution_count": 163,
   "id": "0268908f-c6c0-400e-ad46-c8997dc5b7b0",
   "metadata": {},
   "outputs": [],
   "source": [
    "a = round(a*100)"
   ]
  },
  {
   "cell_type": "code",
   "execution_count": 164,
   "id": "2b0d7c62-46c2-4c90-8719-fabfe36ef2de",
   "metadata": {},
   "outputs": [
    {
     "data": {
      "text/plain": [
       "13"
      ]
     },
     "execution_count": 164,
     "metadata": {},
     "output_type": "execute_result"
    }
   ],
   "source": [
    "a"
   ]
  },
  {
   "cell_type": "markdown",
   "id": "bdde086f-7935-46a3-929b-cd1c3fc518cb",
   "metadata": {
    "tags": []
   },
   "source": [
    "# What was the model's misclassfication rate for games with a margin of victory of two-runs for either team?"
   ]
  },
  {
   "cell_type": "markdown",
   "id": "0a157bfc-e080-4b03-923d-ada8be530e95",
   "metadata": {},
   "source": [
    "The model's misclass rate for games with a margin of victory of one-run for either team is 2%."
   ]
  },
  {
   "cell_type": "code",
   "execution_count": 127,
   "id": "83ebe49b-f03a-4a6f-b11d-f24a23ee33ca",
   "metadata": {},
   "outputs": [],
   "source": [
    "two_run_marg_vict = game_logs_home[game_logs_home[\"run_diff_bet_home_visiting\"] == 2]"
   ]
  },
  {
   "cell_type": "code",
   "execution_count": 128,
   "id": "4a4b1689-14ce-485e-8a88-c224ba81e27c",
   "metadata": {},
   "outputs": [],
   "source": [
    "two_run_marg_vict_misclass = two_run_marg_vict[two_run_marg_vict[\"preds\"] != two_run_marg_vict[\"results\"]]"
   ]
  },
  {
   "cell_type": "code",
   "execution_count": 171,
   "id": "0cd836be-7bfd-446a-bbf7-a86370aaa0f8",
   "metadata": {},
   "outputs": [],
   "source": [
    "b = len(two_run_marg_vict_misclass) / len(two_run_marg_vict)"
   ]
  },
  {
   "cell_type": "code",
   "execution_count": 172,
   "id": "266fdbe2-619a-4a63-970c-cef589665232",
   "metadata": {},
   "outputs": [],
   "source": [
    "b = round(b*100)"
   ]
  },
  {
   "cell_type": "code",
   "execution_count": 173,
   "id": "443d970f-99e9-4a0d-a987-cc26179881dc",
   "metadata": {},
   "outputs": [
    {
     "data": {
      "text/plain": [
       "2"
      ]
     },
     "execution_count": 173,
     "metadata": {},
     "output_type": "execute_result"
    }
   ],
   "source": [
    "b"
   ]
  },
  {
   "cell_type": "markdown",
   "id": "c15d13a8-61e2-4073-8c5e-07e011195405",
   "metadata": {
    "tags": []
   },
   "source": [
    "# What was the model's misclassfication rate for games with a margin of victory of three-runs for either team?"
   ]
  },
  {
   "cell_type": "code",
   "execution_count": 188,
   "id": "59dd19a4-ef67-4168-9972-e89023b83585",
   "metadata": {},
   "outputs": [],
   "source": [
    "three_run_marg_vict = game_logs_home[game_logs_home[\"run_diff_bet_home_visiting\"] == 3]"
   ]
  },
  {
   "cell_type": "code",
   "execution_count": 189,
   "id": "5a159e27-13f1-4625-81d7-8c3166dd0588",
   "metadata": {},
   "outputs": [],
   "source": [
    "three_run_marg_vict_misclass = three_run_marg_vict[three_run_marg_vict[\"preds\"] != three_run_marg_vict[\"results\"]]"
   ]
  },
  {
   "cell_type": "code",
   "execution_count": 190,
   "id": "51484ceb-9687-4642-9f06-8f787310598f",
   "metadata": {},
   "outputs": [],
   "source": [
    "c = len(three_run_marg_vict_misclass) / len(three_run_marg_vict)"
   ]
  },
  {
   "cell_type": "code",
   "execution_count": 192,
   "id": "ec7159b8-2b42-4e97-b5db-33a80f5bcd4d",
   "metadata": {},
   "outputs": [],
   "source": [
    "c = round(c*100)"
   ]
  },
  {
   "cell_type": "markdown",
   "id": "5d39dee6-ede9-4a63-91fa-32f9880f3974",
   "metadata": {},
   "source": [
    "Putting the misclassification rate values for games with one-run, two-run, and three-run margins of victory into the dataframe so that I can plot it in a bar graph."
   ]
  },
  {
   "cell_type": "code",
   "execution_count": 193,
   "id": "c7c2ee16-d82e-48e6-b9a1-6d6ba33afeef",
   "metadata": {},
   "outputs": [],
   "source": [
    "misclass_rate = [a, b, c]"
   ]
  },
  {
   "cell_type": "code",
   "execution_count": 194,
   "id": "aec4475e-2f3b-4f6f-8b8c-b7b733c42a63",
   "metadata": {},
   "outputs": [],
   "source": [
    "df = pd.DataFrame(misclass_rate, columns = [\"model_misclass_rate\"])"
   ]
  },
  {
   "cell_type": "code",
   "execution_count": 205,
   "id": "747c12a9-6497-4cba-a662-c94ed254fce0",
   "metadata": {},
   "outputs": [],
   "source": [
    "df.index = [\"one run\", \"two runs\", \"three runs\"]"
   ]
  },
  {
   "cell_type": "code",
   "execution_count": 209,
   "id": "75454303-9103-407c-a80c-51a4f742eda4",
   "metadata": {},
   "outputs": [
    {
     "data": {
      "image/png": "[encoded data removed]",
      "text/plain": [
       "<Figure size 432x288 with 1 Axes>"
      ]
     },
     "metadata": {
      "needs_background": "light"
     },
     "output_type": "display_data"
    }
   ],
   "source": [
    "df.plot(kind = \"bar\");\n",
    "plt.xlabel(\"Margin of Victory\")\n",
    "plt.ylabel(\"Model Misclassification Rate (%)\")\n",
    "plt.xticks(rotation = \"horizontal\")\n",
    "plt.title(\"Model Misclassification Rate by Game Margin of Victory\");\n",
    "plt.savefig(\"../capstone/images/misclass_rate_by_game_marg_victory.png\")"
   ]
  },
  {
   "cell_type": "markdown",
   "id": "29375cd6-d20f-47bf-b6f1-3c0147dc9f8d",
   "metadata": {},
   "source": [
    "The model had a harder time accurately classifying close games:\n",
    "- The model misclassified 13% of the games that had a one-run margin of victory for either team, 2% of games with a two run margin of victory, and 0% of the games in which either team won by three runs. "
   ]
  },
  {
   "cell_type": "markdown",
   "id": "8b761c78-b704-4cc0-b9a3-36c8d3ec3c70",
   "metadata": {
    "tags": []
   },
   "source": [
    "# Pickling the logistic regression model 2, logreg_home, for StreamLit app"
   ]
  },
  {
   "cell_type": "code",
   "execution_count": 121,
   "id": "ea148dea-22b5-418d-899f-2172bad1b5ec",
   "metadata": {},
   "outputs": [
    {
     "data": {
      "text/plain": [
       "sklearn.linear_model._logistic.LogisticRegression"
      ]
     },
     "execution_count": 121,
     "metadata": {},
     "output_type": "execute_result"
    }
   ],
   "source": [
    "type(logreg_home)"
   ]
  },
  {
   "cell_type": "code",
   "execution_count": 122,
   "id": "bb84b138-cbbb-49f9-914c-e795bc3d2e14",
   "metadata": {},
   "outputs": [],
   "source": [
    "with open('../capstone/models/logreg_home.pkl', 'wb') as f:\n",
    "    pickle.dump(logreg_home, f)"
   ]
  }
 ],
 "metadata": {
  "kernelspec": {
   "display_name": "Python 3 (ipykernel)",
   "language": "python",
   "name": "python3"
  },
  "language_info": {
   "codemirror_mode": {
    "name": "ipython",
    "version": 3
   },
   "file_extension": ".py",
   "mimetype": "text/x-python",
   "name": "python",
   "nbconvert_exporter": "python",
   "pygments_lexer": "ipython3",
   "version": "3.9.12"
  }
 },
 "nbformat": 4,
 "nbformat_minor": 5
}
