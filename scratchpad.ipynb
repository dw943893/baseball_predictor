{
 "cells": [
  {
   "cell_type": "markdown",
   "id": "488d5a32-a411-406a-9ce3-ae47d6c9be1d",
   "metadata": {},
   "source": [
    "# Testing to understand how to input values to logreg.predict()"
   ]
  },
  {
   "cell_type": "markdown",
   "id": "a0ed2474-05f7-4735-8ab1-79aecd1449cd",
   "metadata": {},
   "source": [
    "Need to convert the input into a dataframe before inputting into logreg.predict()"
   ]
  },
  {
   "cell_type": "code",
   "execution_count": null,
   "id": "20765af5-4f42-4feb-8d4e-f12382a33ee2",
   "metadata": {},
   "outputs": [],
   "source": [
    "features = [\"58 home hit-by-pitch\", \"59 home walks\"]\n",
    "\n",
    "X = game_logs_home[features]\n",
    "\n",
    "y = game_logs_home[\"results\"]\n",
    "\n",
    "\n",
    "\n",
    "X_train, X_test, y_train, y_test = train_test_split(X,y, stratify = y, random_state=42)\n",
    "\n",
    "logreg = LogisticRegression(penalty = \"none\")\n",
    "\n",
    "logreg.fit(X_train, y_train)\n",
    "\n",
    "logreg.score(X_train, y_train), logreg.score(X_test, y_test)\n",
    "\n",
    "X_test.head(1)\n",
    "\n",
    "data = {\"58 home hit-by-pitch\" : [0], \"59 home walks\": [0]}\n",
    "\n",
    "test = pd.DataFrame(data)\n",
    "\n",
    "logreg.predict(test)[0]\n",
    "\n",
    "logreg.predict_proba(test)\n",
    "\n",
    "data = {\"A\" : [5], \"B\": [6]}\n",
    "\n",
    "test = pd.DataFrame(data)\n",
    "\n",
    "test\n",
    "\n",
    "a = [5,6]\n",
    "\n",
    "b = np.array(a)\n",
    "b\n",
    "\n",
    "X_test.columns\n",
    "\n",
    "pd.DataFrame(b, columns = [\"A\"])\n",
    "\n",
    "X_test.columns.values[0]\n",
    "\n",
    "X_test"
   ]
  }
 ],
 "metadata": {
  "kernelspec": {
   "display_name": "Python 3 (ipykernel)",
   "language": "python",
   "name": "python3"
  },
  "language_info": {
   "codemirror_mode": {
    "name": "ipython",
    "version": 3
   },
   "file_extension": ".py",
   "mimetype": "text/x-python",
   "name": "python",
   "nbconvert_exporter": "python",
   "pygments_lexer": "ipython3",
   "version": "3.9.12"
  }
 },
 "nbformat": 4,
 "nbformat_minor": 5
}
